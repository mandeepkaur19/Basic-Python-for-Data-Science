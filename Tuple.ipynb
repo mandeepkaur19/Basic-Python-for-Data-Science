{
 "cells": [
  {
   "cell_type": "markdown",
   "id": "eaeefa54-60f3-4d1a-9a76-cbf33cde480b",
   "metadata": {},
   "source": [
    "#### Tuple Creation"
   ]
  },
  {
   "cell_type": "code",
   "execution_count": 3,
   "id": "375f78ed-ec86-4cda-b2cd-4b71d7b8fc07",
   "metadata": {},
   "outputs": [],
   "source": [
    "tup1 = () #Empty Tuple"
   ]
  },
  {
   "cell_type": "code",
   "execution_count": 7,
   "id": "9c614f66-616b-4c38-bfaf-f4a306b1fee8",
   "metadata": {},
   "outputs": [],
   "source": [
    "tup2 = (10,30,60) #tuple of integers numbers"
   ]
  },
  {
   "cell_type": "code",
   "execution_count": 11,
   "id": "c38c4f66-eacf-4c02-93b4-5ca2b2b86ff7",
   "metadata": {},
   "outputs": [],
   "source": [
    "tup3 = (10.77,30.66,60.89) #Tuple of float number"
   ]
  },
  {
   "cell_type": "code",
   "execution_count": 13,
   "id": "1c6ba651-124c-4796-9592-c2c104ece182",
   "metadata": {},
   "outputs": [],
   "source": [
    "tup4 = ('one','two',\"three\") #Tuple of strings"
   ]
  },
  {
   "cell_type": "code",
   "execution_count": 17,
   "id": "6fd9deae-d1af-4065-9499-14446a7fd050",
   "metadata": {},
   "outputs": [],
   "source": [
    "tup5 = ('Mandeep', 25,(50,100),(150,90)) #Nested tuples"
   ]
  },
  {
   "cell_type": "code",
   "execution_count": 19,
   "id": "c68c67d2-4596-4574-b6a2-9fe6304fab95",
   "metadata": {},
   "outputs": [],
   "source": [
    "tup6 = (100, 'Mandeep', 17.765) #Tuple of mixed data type"
   ]
  },
  {
   "cell_type": "code",
   "execution_count": 21,
   "id": "73ca02b3-e1ba-4584-9f14-e636d90198bd",
   "metadata": {},
   "outputs": [],
   "source": [
    "tup7 = ('Mandeep', 25,[50,100],[150, 90], {'John' , 'David'} , (99,22,33))"
   ]
  },
  {
   "cell_type": "code",
   "execution_count": 24,
   "id": "3452d773-8044-452e-a2f3-dd7e9b1bd3fe",
   "metadata": {},
   "outputs": [
    {
     "data": {
      "text/plain": [
       "6"
      ]
     },
     "execution_count": 24,
     "metadata": {},
     "output_type": "execute_result"
    }
   ],
   "source": [
    "len(tup7) #Length of List"
   ]
  },
  {
   "cell_type": "markdown",
   "id": "01794eef-50cc-4711-b02c-ad63d9763c89",
   "metadata": {},
   "source": [
    "#### Tuple Indexing"
   ]
  },
  {
   "cell_type": "code",
   "execution_count": 27,
   "id": "fa3a4f2e-b48e-4ccb-a633-789c0f7e17c9",
   "metadata": {},
   "outputs": [
    {
     "data": {
      "text/plain": [
       "10"
      ]
     },
     "execution_count": 27,
     "metadata": {},
     "output_type": "execute_result"
    }
   ],
   "source": [
    "tup2[0] #Retreive first element of the tuple"
   ]
  },
  {
   "cell_type": "code",
   "execution_count": 29,
   "id": "7b4ab03d-e4be-42d9-934f-110c04de555e",
   "metadata": {},
   "outputs": [
    {
     "data": {
      "text/plain": [
       "'one'"
      ]
     },
     "execution_count": 29,
     "metadata": {},
     "output_type": "execute_result"
    }
   ],
   "source": [
    "tup4[0]"
   ]
  },
  {
   "cell_type": "code",
   "execution_count": 33,
   "id": "689a39e6-23c1-495d-85f8-ed2d97a66ddb",
   "metadata": {},
   "outputs": [
    {
     "data": {
      "text/plain": [
       "'o'"
      ]
     },
     "execution_count": 33,
     "metadata": {},
     "output_type": "execute_result"
    }
   ],
   "source": [
    "tup4[0][0] #Nested indexing- Access the first tuple element"
   ]
  },
  {
   "cell_type": "code",
   "execution_count": 41,
   "id": "1abf9a14-f98f-403f-b372-058d645adc69",
   "metadata": {},
   "outputs": [
    {
     "data": {
      "text/plain": [
       "'three'"
      ]
     },
     "execution_count": 41,
     "metadata": {},
     "output_type": "execute_result"
    }
   ],
   "source": [
    "tup4[-1] #Last item of the tuple"
   ]
  },
  {
   "cell_type": "code",
   "execution_count": 43,
   "id": "da4a74b1-0c01-4258-acb7-d664e32c1ffa",
   "metadata": {},
   "outputs": [
    {
     "data": {
      "text/plain": [
       "(150, 90)"
      ]
     },
     "execution_count": 43,
     "metadata": {},
     "output_type": "execute_result"
    }
   ],
   "source": [
    "tup5[-1] #Last item of the tuple"
   ]
  },
  {
   "cell_type": "markdown",
   "id": "d3d26ef8-6133-49ee-8d22-62ee234d7dde",
   "metadata": {},
   "source": [
    "#### TUPLE Slicing"
   ]
  },
  {
   "cell_type": "code",
   "execution_count": 46,
   "id": "1860240d-29e9-45fc-aa95-98a95b28b13b",
   "metadata": {},
   "outputs": [],
   "source": [
    "mytuple = ('one' , 'two' , 'three', 'four', 'five', 'six', 'seven', 'eight')"
   ]
  },
  {
   "cell_type": "code",
   "execution_count": 48,
   "id": "b18672bd-b4a0-4be0-a28d-5032a85f4a81",
   "metadata": {},
   "outputs": [
    {
     "data": {
      "text/plain": [
       "('one', 'two', 'three')"
      ]
     },
     "execution_count": 48,
     "metadata": {},
     "output_type": "execute_result"
    }
   ],
   "source": [
    "mytuple[0:3] #Return all items from 0th to 3rd index location excluding the item"
   ]
  },
  {
   "cell_type": "code",
   "execution_count": 50,
   "id": "8e3be1d0-a95e-4cfa-82fa-edcad25aa4c1",
   "metadata": {},
   "outputs": [
    {
     "data": {
      "text/plain": [
       "('three', 'four', 'five')"
      ]
     },
     "execution_count": 50,
     "metadata": {},
     "output_type": "execute_result"
    }
   ],
   "source": [
    "mytuple[2:5]"
   ]
  },
  {
   "cell_type": "code",
   "execution_count": 54,
   "id": "eb4d4951-4bd8-49d1-9cb6-2b04cae7646b",
   "metadata": {},
   "outputs": [
    {
     "data": {
      "text/plain": [
       "('one', 'two', 'three')"
      ]
     },
     "execution_count": 54,
     "metadata": {},
     "output_type": "execute_result"
    }
   ],
   "source": [
    "mytuple[:3] # Return first three items"
   ]
  },
  {
   "cell_type": "code",
   "execution_count": 56,
   "id": "875b7a3b-0f07-4a27-abe8-d44fe600596b",
   "metadata": {},
   "outputs": [
    {
     "data": {
      "text/plain": [
       "('one', 'two')"
      ]
     },
     "execution_count": 56,
     "metadata": {},
     "output_type": "execute_result"
    }
   ],
   "source": [
    "mytuple[:2]"
   ]
  },
  {
   "cell_type": "code",
   "execution_count": 60,
   "id": "eb02d001-6335-4cfd-af48-e784be885055",
   "metadata": {},
   "outputs": [
    {
     "data": {
      "text/plain": [
       "('six', 'seven', 'eight')"
      ]
     },
     "execution_count": 60,
     "metadata": {},
     "output_type": "execute_result"
    }
   ],
   "source": [
    "mytuple[-3:] #Return Last three items"
   ]
  },
  {
   "cell_type": "code",
   "execution_count": 64,
   "id": "b846dadf-b2ac-4432-8d74-5110be78c04f",
   "metadata": {},
   "outputs": [
    {
     "data": {
      "text/plain": [
       "('seven', 'eight')"
      ]
     },
     "execution_count": 64,
     "metadata": {},
     "output_type": "execute_result"
    }
   ],
   "source": [
    "mytuple[-2:] #Return last two items"
   ]
  },
  {
   "cell_type": "code",
   "execution_count": 66,
   "id": "a8591b9e-5c7d-4ba5-8c7b-d3ed1955c513",
   "metadata": {},
   "outputs": [
    {
     "data": {
      "text/plain": [
       "'eight'"
      ]
     },
     "execution_count": 66,
     "metadata": {},
     "output_type": "execute_result"
    }
   ],
   "source": [
    "mytuple[-1] #Return Last item of the tuple"
   ]
  },
  {
   "cell_type": "code",
   "execution_count": 68,
   "id": "a27ad718-3c58-4d8a-a695-72d7f9824d83",
   "metadata": {},
   "outputs": [
    {
     "data": {
      "text/plain": [
       "('one', 'two', 'three', 'four', 'five', 'six', 'seven', 'eight')"
      ]
     },
     "execution_count": 68,
     "metadata": {},
     "output_type": "execute_result"
    }
   ],
   "source": [
    "mytuple[:] #Return whole tuple"
   ]
  },
  {
   "cell_type": "markdown",
   "id": "5e4e28df-bb0b-4c89-ae7a-5b760ba25e52",
   "metadata": {},
   "source": [
    "#### Remove & Change Items"
   ]
  },
  {
   "cell_type": "code",
   "execution_count": 71,
   "id": "736a4881-996c-4f42-9c0f-12ddeaaf1ca0",
   "metadata": {},
   "outputs": [
    {
     "data": {
      "text/plain": [
       "('one', 'two', 'three', 'four', 'five', 'six', 'seven', 'eight')"
      ]
     },
     "execution_count": 71,
     "metadata": {},
     "output_type": "execute_result"
    }
   ],
   "source": [
    "mytuple"
   ]
  },
  {
   "cell_type": "code",
   "execution_count": 73,
   "id": "5685af91-81f1-41c3-82a6-01252e3787b3",
   "metadata": {},
   "outputs": [
    {
     "ename": "TypeError",
     "evalue": "'tuple' object doesn't support item deletion",
     "output_type": "error",
     "traceback": [
      "\u001b[1;31m---------------------------------------------------------------------------\u001b[0m",
      "\u001b[1;31mTypeError\u001b[0m                                 Traceback (most recent call last)",
      "Cell \u001b[1;32mIn[73], line 1\u001b[0m\n\u001b[1;32m----> 1\u001b[0m \u001b[38;5;28;01mdel\u001b[39;00m mytuple[\u001b[38;5;241m0\u001b[39m]\n",
      "\u001b[1;31mTypeError\u001b[0m: 'tuple' object doesn't support item deletion"
     ]
    }
   ],
   "source": [
    "del mytuple[0] #Tuple are immutable which means we can't Delete tuple items"
   ]
  },
  {
   "cell_type": "code",
   "execution_count": 77,
   "id": "a1f7414a-3521-4b2d-b476-f4a1e38114dd",
   "metadata": {},
   "outputs": [
    {
     "ename": "TypeError",
     "evalue": "'tuple' object does not support item assignment",
     "output_type": "error",
     "traceback": [
      "\u001b[1;31m---------------------------------------------------------------------------\u001b[0m",
      "\u001b[1;31mTypeError\u001b[0m                                 Traceback (most recent call last)",
      "Cell \u001b[1;32mIn[77], line 1\u001b[0m\n\u001b[1;32m----> 1\u001b[0m mytuple[\u001b[38;5;241m0\u001b[39m] \u001b[38;5;241m=\u001b[39m \u001b[38;5;241m1\u001b[39m\n",
      "\u001b[1;31mTypeError\u001b[0m: 'tuple' object does not support item assignment"
     ]
    }
   ],
   "source": [
    "mytuple[0] = 1 #Tuple are immutable which means we can't CHANGE tuple items"
   ]
  },
  {
   "cell_type": "code",
   "execution_count": null,
   "id": "d00c4dcf-aa43-4e8b-9be1-7ff636e2cfff",
   "metadata": {},
   "outputs": [],
   "source": [
    "del mytuple #Deleting entire tuple object is possible"
   ]
  },
  {
   "cell_type": "markdown",
   "id": "98f16b68-bf6c-43d6-a1ea-951640caa7c7",
   "metadata": {},
   "source": [
    "#### Loop Through a Tuple"
   ]
  },
  {
   "cell_type": "code",
   "execution_count": 92,
   "id": "511dc9ca-66c1-469c-bff6-6517dad57e02",
   "metadata": {},
   "outputs": [
    {
     "data": {
      "text/plain": [
       "('one', 'two', 'three', 'four', 'five', 'six', 'seven', 'eight')"
      ]
     },
     "execution_count": 92,
     "metadata": {},
     "output_type": "execute_result"
    }
   ],
   "source": [
    "mytuple = ('one', 'two', 'three', 'four', 'five', 'six', 'seven', 'eight')\n",
    "mytuple"
   ]
  },
  {
   "cell_type": "code",
   "execution_count": 94,
   "id": "01c6887a-002a-42bf-81fc-9c1f871fb5b9",
   "metadata": {},
   "outputs": [
    {
     "name": "stdout",
     "output_type": "stream",
     "text": [
      "one\n",
      "two\n",
      "three\n",
      "four\n",
      "five\n",
      "six\n",
      "seven\n",
      "eight\n"
     ]
    }
   ],
   "source": [
    "for i in mytuple:\n",
    "    print(i)"
   ]
  },
  {
   "cell_type": "code",
   "execution_count": 96,
   "id": "0e96d98d-886c-41c8-8885-fb34f6bae50e",
   "metadata": {},
   "outputs": [
    {
     "name": "stdout",
     "output_type": "stream",
     "text": [
      "(0, 'one')\n",
      "(1, 'two')\n",
      "(2, 'three')\n",
      "(3, 'four')\n",
      "(4, 'five')\n",
      "(5, 'six')\n",
      "(6, 'seven')\n",
      "(7, 'eight')\n"
     ]
    }
   ],
   "source": [
    "for i in enumerate(mytuple):\n",
    "    print(i)"
   ]
  },
  {
   "cell_type": "markdown",
   "id": "6625afd0-de8d-488e-80a8-5128d6b0a35a",
   "metadata": {},
   "source": [
    "#### Tuple Membership"
   ]
  },
  {
   "cell_type": "code",
   "execution_count": 99,
   "id": "82c58342-c047-402f-8893-e846a0631fde",
   "metadata": {},
   "outputs": [
    {
     "data": {
      "text/plain": [
       "('one', 'two', 'three', 'four', 'five', 'six', 'seven', 'eight')"
      ]
     },
     "execution_count": 99,
     "metadata": {},
     "output_type": "execute_result"
    }
   ],
   "source": [
    "mytuple"
   ]
  },
  {
   "cell_type": "code",
   "execution_count": 103,
   "id": "171a58fd-bc81-4c5d-92c5-e188fa6c9736",
   "metadata": {},
   "outputs": [
    {
     "data": {
      "text/plain": [
       "True"
      ]
     },
     "execution_count": 103,
     "metadata": {},
     "output_type": "execute_result"
    }
   ],
   "source": [
    "'one' in mytuple #check if one exist in the list"
   ]
  },
  {
   "cell_type": "code",
   "execution_count": 107,
   "id": "c0a8d4f7-1a1e-449a-9a9a-116259ac4d54",
   "metadata": {},
   "outputs": [
    {
     "data": {
      "text/plain": [
       "False"
      ]
     },
     "execution_count": 107,
     "metadata": {},
     "output_type": "execute_result"
    }
   ],
   "source": [
    "'ten' in mytuple #check if ten exist in the list"
   ]
  },
  {
   "cell_type": "code",
   "execution_count": 109,
   "id": "6535b2f4-474a-4fdd-b942-18459e66fe16",
   "metadata": {},
   "outputs": [
    {
     "name": "stdout",
     "output_type": "stream",
     "text": [
      "Three is present in the tuple\n"
     ]
    }
   ],
   "source": [
    "if 'three' in mytuple:\n",
    "    print('Three is present in the tuple')\n",
    "else:\n",
    "    print('Three is not present in the tuple')"
   ]
  },
  {
   "cell_type": "code",
   "execution_count": 111,
   "id": "d8d2f83a-8da6-4d37-bbf7-c7dd8fd6e5a4",
   "metadata": {},
   "outputs": [
    {
     "name": "stdout",
     "output_type": "stream",
     "text": [
      "Eleven is not present in the tuple\n"
     ]
    }
   ],
   "source": [
    "if 'eleven' in mytuple:  #check if 'eleven' exist in the list\n",
    "    print('eleven is present in the tuple')\n",
    "else:\n",
    "    print('Eleven is not present in the tuple')    "
   ]
  },
  {
   "cell_type": "markdown",
   "id": "7291d077-b820-4743-a640-8d44da5c30bf",
   "metadata": {},
   "source": [
    "#### Index Position"
   ]
  },
  {
   "cell_type": "code",
   "execution_count": 114,
   "id": "e9fbdebc-16fe-4b93-882f-f3859c9e957f",
   "metadata": {},
   "outputs": [
    {
     "data": {
      "text/plain": [
       "('one', 'two', 'three', 'four', 'five', 'six', 'seven', 'eight')"
      ]
     },
     "execution_count": 114,
     "metadata": {},
     "output_type": "execute_result"
    }
   ],
   "source": [
    "mytuple"
   ]
  },
  {
   "cell_type": "code",
   "execution_count": 116,
   "id": "53521065-5efd-4294-8262-06a2fc918a68",
   "metadata": {},
   "outputs": [
    {
     "data": {
      "text/plain": [
       "0"
      ]
     },
     "execution_count": 116,
     "metadata": {},
     "output_type": "execute_result"
    }
   ],
   "source": [
    "mytuple.index('one')"
   ]
  },
  {
   "cell_type": "code",
   "execution_count": 118,
   "id": "1f53534e-6a0e-4954-82f1-de453cf68506",
   "metadata": {},
   "outputs": [
    {
     "data": {
      "text/plain": [
       "4"
      ]
     },
     "execution_count": 118,
     "metadata": {},
     "output_type": "execute_result"
    }
   ],
   "source": [
    "mytuple.index('five')"
   ]
  },
  {
   "cell_type": "code",
   "execution_count": 122,
   "id": "a99b9bf8-57fe-4983-bca7-fa7f9aa356c4",
   "metadata": {},
   "outputs": [
    {
     "data": {
      "text/plain": [
       "('one', 'two', 'three', 'four', 'five', 'six', 'seven', 'eight')"
      ]
     },
     "execution_count": 122,
     "metadata": {},
     "output_type": "execute_result"
    }
   ],
   "source": [
    "mytuple1 = ('one', 'two', 'three', 'four', 'five', 'six', 'seven', 'eight')\n",
    "mytuple1"
   ]
  },
  {
   "cell_type": "code",
   "execution_count": 124,
   "id": "c370c62b-672c-4a96-be90-8165d11d11a1",
   "metadata": {},
   "outputs": [
    {
     "data": {
      "text/plain": [
       "0"
      ]
     },
     "execution_count": 124,
     "metadata": {},
     "output_type": "execute_result"
    }
   ],
   "source": [
    "mytuple1.index('one')"
   ]
  },
  {
   "cell_type": "markdown",
   "id": "f83f6b0c-3437-4051-9b3f-9a64a7910a00",
   "metadata": {},
   "source": [
    "#### Sorting"
   ]
  },
  {
   "cell_type": "code",
   "execution_count": 127,
   "id": "6daffa34-fcd7-40d0-8445-e12d0e1c81f6",
   "metadata": {},
   "outputs": [],
   "source": [
    "mytuple2 = (43,67,99,12,6,90,67)"
   ]
  },
  {
   "cell_type": "code",
   "execution_count": 131,
   "id": "301c206f-e5fc-4904-acef-480bb6f5dd31",
   "metadata": {},
   "outputs": [
    {
     "data": {
      "text/plain": [
       "[6, 12, 43, 67, 67, 90, 99]"
      ]
     },
     "execution_count": 131,
     "metadata": {},
     "output_type": "execute_result"
    }
   ],
   "source": [
    "sorted(mytuple2) #Return a new sorted list and doesn't change original tuple"
   ]
  },
  {
   "cell_type": "code",
   "execution_count": 133,
   "id": "47e6983c-2f4c-4f7e-a425-a4fa54b9bc9c",
   "metadata": {},
   "outputs": [
    {
     "data": {
      "text/plain": [
       "[99, 90, 67, 67, 43, 12, 6]"
      ]
     },
     "execution_count": 133,
     "metadata": {},
     "output_type": "execute_result"
    }
   ],
   "source": [
    "sorted(mytuple2, reverse=True) #Sort in descending order"
   ]
  }
 ],
 "metadata": {
  "kernelspec": {
   "display_name": "Python 3 (ipykernel)",
   "language": "python",
   "name": "python3"
  },
  "language_info": {
   "codemirror_mode": {
    "name": "ipython",
    "version": 3
   },
   "file_extension": ".py",
   "mimetype": "text/x-python",
   "name": "python",
   "nbconvert_exporter": "python",
   "pygments_lexer": "ipython3",
   "version": "3.12.4"
  }
 },
 "nbformat": 4,
 "nbformat_minor": 5
}
