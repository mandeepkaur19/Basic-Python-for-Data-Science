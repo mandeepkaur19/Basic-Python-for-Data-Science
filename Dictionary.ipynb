{
 "cells": [
  {
   "cell_type": "markdown",
   "id": "d46447ca-b64e-4308-9c93-ada03ab77e07",
   "metadata": {},
   "source": [
    "### Dictionary"
   ]
  },
  {
   "cell_type": "markdown",
   "id": "eb3406cd-e0b8-475c-a73f-c0b63e48ee6a",
   "metadata": {},
   "source": [
    "###### Dictionary is a mutable data type in python"
   ]
  },
  {
   "cell_type": "markdown",
   "id": "15c91ae6-73d9-4446-9eac-26e3d1be57cb",
   "metadata": {},
   "source": [
    "###### A python dictionary is a collection of key and value pairs separated by a colon (:) & enclosed"
   ]
  },
  {
   "cell_type": "markdown",
   "id": "98e21029-324e-4fc0-b918-650d31618f4a",
   "metadata": {},
   "source": [
    "###### in curly braces{}"
   ]
  },
  {
   "cell_type": "markdown",
   "id": "1e02d0d8-bdf7-4248-8cb3-b908233ae3ab",
   "metadata": {},
   "source": [
    "###### Keys must be unique in a dictionary,duplicate values are allowed."
   ]
  },
  {
   "cell_type": "code",
   "execution_count": null,
   "id": "b61e9cf5-906e-4a44-8dae-ca015033e5ef",
   "metadata": {},
   "outputs": [],
   "source": []
  },
  {
   "cell_type": "code",
   "execution_count": null,
   "id": "fa3a4e88-766d-4858-ae30-526c6ceb015a",
   "metadata": {},
   "outputs": [],
   "source": []
  },
  {
   "cell_type": "code",
   "execution_count": null,
   "id": "607938cf-7319-4aec-90e5-98e6b8902663",
   "metadata": {},
   "outputs": [],
   "source": []
  },
  {
   "cell_type": "code",
   "execution_count": null,
   "id": "ed97c0ef-fe51-43f7-ac9f-f62abf7fcf3d",
   "metadata": {},
   "outputs": [],
   "source": []
  },
  {
   "cell_type": "code",
   "execution_count": null,
   "id": "519e4c2a-c511-4ee4-a369-e222b81b4e80",
   "metadata": {},
   "outputs": [],
   "source": []
  },
  {
   "cell_type": "code",
   "execution_count": null,
   "id": "ef9a46bd-f462-4fc1-a9f6-c2f267c09ac0",
   "metadata": {},
   "outputs": [],
   "source": []
  },
  {
   "cell_type": "code",
   "execution_count": null,
   "id": "e79aa9d6-5925-4222-b31e-0cd179f09177",
   "metadata": {},
   "outputs": [],
   "source": []
  },
  {
   "cell_type": "code",
   "execution_count": null,
   "id": "e4b83b56-0969-4987-a925-a29fbc96ad7f",
   "metadata": {},
   "outputs": [],
   "source": []
  },
  {
   "cell_type": "code",
   "execution_count": null,
   "id": "bba27cb5-43e0-4d7b-a254-ca24c9c7bd40",
   "metadata": {},
   "outputs": [],
   "source": []
  },
  {
   "cell_type": "code",
   "execution_count": null,
   "id": "4b2e7be1-061c-4944-931d-46b69d42cec3",
   "metadata": {},
   "outputs": [],
   "source": []
  },
  {
   "cell_type": "code",
   "execution_count": null,
   "id": "2c0c0517-44a0-4f5a-a275-56fd9cae882e",
   "metadata": {},
   "outputs": [],
   "source": []
  },
  {
   "cell_type": "code",
   "execution_count": null,
   "id": "e1381a5e-28d8-4cf3-bac2-3c98c64d1f47",
   "metadata": {},
   "outputs": [],
   "source": []
  },
  {
   "cell_type": "code",
   "execution_count": null,
   "id": "8991aac9-7df0-49a6-8a70-a217d43ef348",
   "metadata": {},
   "outputs": [],
   "source": []
  },
  {
   "cell_type": "code",
   "execution_count": null,
   "id": "d5e1d4f8-1bca-4673-9907-b98aeab447df",
   "metadata": {},
   "outputs": [],
   "source": []
  },
  {
   "cell_type": "code",
   "execution_count": null,
   "id": "a17ab851-4318-494c-bbdf-0cc4932c38d0",
   "metadata": {},
   "outputs": [],
   "source": []
  },
  {
   "cell_type": "code",
   "execution_count": null,
   "id": "ca82c92c-21ac-4061-9332-446fd2005a93",
   "metadata": {},
   "outputs": [],
   "source": []
  },
  {
   "cell_type": "code",
   "execution_count": null,
   "id": "779e1f1b-459a-4954-8746-e5b588794de6",
   "metadata": {},
   "outputs": [],
   "source": []
  },
  {
   "cell_type": "code",
   "execution_count": null,
   "id": "dcf55760-c4d2-4496-91ae-a7d056448433",
   "metadata": {},
   "outputs": [],
   "source": []
  },
  {
   "cell_type": "code",
   "execution_count": null,
   "id": "86199b17-d6c7-4f23-8232-120245506f26",
   "metadata": {},
   "outputs": [],
   "source": []
  },
  {
   "cell_type": "code",
   "execution_count": null,
   "id": "ef38d8cf-b842-49a3-900b-0a865ad7505c",
   "metadata": {},
   "outputs": [],
   "source": []
  },
  {
   "cell_type": "code",
   "execution_count": null,
   "id": "bc605ab1-d054-442b-95d7-66b9691ab4e2",
   "metadata": {},
   "outputs": [],
   "source": []
  },
  {
   "cell_type": "code",
   "execution_count": null,
   "id": "fa9a5177-15f0-474f-b655-095275afd5eb",
   "metadata": {},
   "outputs": [],
   "source": []
  },
  {
   "cell_type": "code",
   "execution_count": null,
   "id": "d309b733-6c85-4f77-b9c3-3f1e93858ef1",
   "metadata": {},
   "outputs": [],
   "source": []
  },
  {
   "cell_type": "code",
   "execution_count": null,
   "id": "ba4be9f3-12db-43b1-8dfb-e7f1d7ab7ce9",
   "metadata": {},
   "outputs": [],
   "source": []
  }
 ],
 "metadata": {
  "kernelspec": {
   "display_name": "",
   "name": ""
  },
  "language_info": {
   "name": ""
  }
 },
 "nbformat": 4,
 "nbformat_minor": 5
}
