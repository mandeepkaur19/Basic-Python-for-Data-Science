{
 "cells": [
  {
   "cell_type": "markdown",
   "id": "2cba8662-5f8a-4991-9a2b-1fcaf63f6266",
   "metadata": {},
   "source": [
    "# PYTHON PROGRAMMING LANGUAGE"
   ]
  },
  {
   "cell_type": "markdown",
   "id": "c8748aef-f23a-4126-937a-9d8e3d27ce73",
   "metadata": {},
   "source": [
    "###### Fastest programming language. Python is used in Machine Learning, Data Science, Big Data,\r\n",
    "Web Development, Scripting"
   ]
  },
  {
   "cell_type": "markdown",
   "id": "3af4f74f-36ca-416c-a8af-9ddf42355de0",
   "metadata": {},
   "source": [
    "# PYTHON INTERPRETTER"
   ]
  },
  {
   "cell_type": "markdown",
   "id": "c64d8952-f647-48d0-b4bb-f446eea1568b",
   "metadata": {},
   "source": [
    "###### IDE (INTEGRATED DEVELOPMENT ENVIRONMENT)"
   ]
  },
  {
   "cell_type": "markdown",
   "id": "ffb83fd9-4b52-400c-b8a5-84375c9684db",
   "metadata": {},
   "source": [
    "##### A python interpreter is a computer program that converts each high-level program"
   ]
  },
  {
   "cell_type": "markdown",
   "id": "90542a71-0ae4-40a9-87d7-995be9d3ea82",
   "metadata": {},
   "source": [
    "##### statement into machine code. An interpreter translates the command that you write out into"
   ]
  },
  {
   "cell_type": "markdown",
   "id": "cd2d4574-6fbc-4ffc-8c5b-f0047a92ccd2",
   "metadata": {},
   "source": [
    "##### code that the computer can understand"
   ]
  },
  {
   "cell_type": "markdown",
   "id": "988b212f-0c52-48d8-8cf1-9c0633610c51",
   "metadata": {},
   "source": [
    "### IDE (INTEGRATED DEVELOPMENT ENVIRONMENT) =>"
   ]
  },
  {
   "cell_type": "markdown",
   "id": "0417b1ea-15d7-4aac-9075-32825496ea81",
   "metadata": {},
   "source": [
    "###### 1. using IDE - one can write code, run the code, debug the code"
   ]
  },
  {
   "cell_type": "markdown",
   "id": "0872a93f-2c99-4839-83e1-7eb5859b355f",
   "metadata": {},
   "source": [
    "###### 2. IDE takes care of interpreting the Python code, running python scripts, building"
   ]
  },
  {
   "cell_type": "markdown",
   "id": "c07f2c08-c729-431f-bc0c-431303c263ce",
   "metadata": {},
   "source": [
    "###### executables, and debugging the applications."
   ]
  },
  {
   "cell_type": "markdown",
   "id": "594e4251-3fd0-43f2-b841-c96c4416bb5b",
   "metadata": {},
   "source": [
    "###### 3. An IDE enables programmers to combine the different aspects of writing a computer program"
   ]
  },
  {
   "cell_type": "markdown",
   "id": "6a87dee8-646d-46ee-93be-ab68b234411f",
   "metadata": {},
   "source": [
    "###### 4. if you wnated to be python developer only then you need to install (IDE -- PYCHARM)"
   ]
  },
  {
   "cell_type": "markdown",
   "id": "b0ac0808-e2aa-49de-a56c-41d8a88cf9cf",
   "metadata": {},
   "source": [
    "## PYTHON INTERPRETER & COMPILER"
   ]
  },
  {
   "cell_type": "markdown",
   "id": "83ab2da1-ff78-431f-bf8e-c3c499404583",
   "metadata": {},
   "source": [
    "###### Both compilers and interpreters are used to convert a program written in a\n",
    "high-level language into machine code understood by computers."
   ]
  },
  {
   "cell_type": "markdown",
   "id": "9bbbe52e-af0e-4bec-90ee-81a1442374a9",
   "metadata": {},
   "source": [
    "##### Interpreter -->\n",
    "                1. Translates program one statement at a time\n",
    "                2. Interpreter run every line item\n",
    "                3. Execut the single, partial line of code\n",
    "                4. Easy for programming"
   ]
  },
  {
   "cell_type": "markdown",
   "id": "c71d6299-011c-41d7-9404-174353d92447",
   "metadata": {},
   "source": [
    "##### Compiler -->\n",
    "                1. Scans the entire program and translates it as a whole into\n",
    "                machine code.\n",
    "                2. No execution if an error occurs\n",
    "                3. you can not fix the bug (debug) line by line"
   ]
  },
  {
   "cell_type": "markdown",
   "id": "c3645c16-fd3d-4a13-beeb-0151ebe270fe",
   "metadata": {},
   "source": [
    "### ANACONDA"
   ]
  },
  {
   "cell_type": "markdown",
   "id": "de5a7dde-fd16-4c53-895c-01b36b4bdf57",
   "metadata": {},
   "source": [
    "Anaconda is a distribution of the Python and R programming languages for scientific\n",
    "computing (data science, machine learning applications, large-scale data processing,\n",
    "predictive analytics, etc.), that aims to simplify package management and deployment."
   ]
  },
  {
   "cell_type": "code",
   "execution_count": 26,
   "id": "69c927c6-6844-40a6-813e-6635598ab5ef",
   "metadata": {},
   "outputs": [
    {
     "data": {
      "text/plain": [
       "2"
      ]
     },
     "execution_count": 26,
     "metadata": {},
     "output_type": "execute_result"
    }
   ],
   "source": [
    "1 + 1 #ADDITION"
   ]
  },
  {
   "cell_type": "code",
   "execution_count": 28,
   "id": "c2068fcf-b149-4af1-8222-0b8bd8fa1477",
   "metadata": {},
   "outputs": [
    {
     "data": {
      "text/plain": [
       "1"
      ]
     },
     "execution_count": 28,
     "metadata": {},
     "output_type": "execute_result"
    }
   ],
   "source": [
    "2-1"
   ]
  },
  {
   "cell_type": "code",
   "execution_count": 30,
   "id": "0d92f4f3-19bc-4154-9824-6aa8a6190213",
   "metadata": {},
   "outputs": [
    {
     "data": {
      "text/plain": [
       "12"
      ]
     },
     "execution_count": 30,
     "metadata": {},
     "output_type": "execute_result"
    }
   ],
   "source": [
    "3*4"
   ]
  },
  {
   "cell_type": "code",
   "execution_count": 32,
   "id": "9e5a0c4f-38db-4455-a1d2-721d29b46912",
   "metadata": {},
   "outputs": [
    {
     "data": {
      "text/plain": [
       "2.0"
      ]
     },
     "execution_count": 32,
     "metadata": {},
     "output_type": "execute_result"
    }
   ],
   "source": [
    "8/4 #Division"
   ]
  },
  {
   "cell_type": "code",
   "execution_count": 34,
   "id": "0e1da017-20ef-4501-b608-aec1662cf822",
   "metadata": {},
   "outputs": [
    {
     "data": {
      "text/plain": [
       "1.6"
      ]
     },
     "execution_count": 34,
     "metadata": {},
     "output_type": "execute_result"
    }
   ],
   "source": [
    "8/5 # float Division"
   ]
  },
  {
   "cell_type": "code",
   "execution_count": 38,
   "id": "591e4e4c-93a7-42cb-8cb7-f9c24a43bf0c",
   "metadata": {},
   "outputs": [
    {
     "data": {
      "text/plain": [
       "2"
      ]
     },
     "execution_count": 38,
     "metadata": {},
     "output_type": "execute_result"
    }
   ],
   "source": [
    "8 // 4 #intergeer division"
   ]
  },
  {
   "cell_type": "code",
   "execution_count": 40,
   "id": "172b2831-b51c-44ec-92fc-af4ca7d266d4",
   "metadata": {},
   "outputs": [
    {
     "data": {
      "text/plain": [
       "10"
      ]
     },
     "execution_count": 40,
     "metadata": {},
     "output_type": "execute_result"
    }
   ],
   "source": [
    "8 + 9 - 7"
   ]
  },
  {
   "cell_type": "code",
   "execution_count": 42,
   "id": "d45578c9-5b89-442a-818a-5c1af6ac37da",
   "metadata": {},
   "outputs": [
    {
     "data": {
      "text/plain": [
       "50"
      ]
     },
     "execution_count": 42,
     "metadata": {},
     "output_type": "execute_result"
    }
   ],
   "source": [
    "(5 + 5) * 5 # BODMAS (Bracket || Oders || Divide || Multiply || Add || Substact)"
   ]
  },
  {
   "cell_type": "code",
   "execution_count": 44,
   "id": "85c708a5-203b-49cc-b99e-bb290f902ba6",
   "metadata": {},
   "outputs": [
    {
     "data": {
      "text/plain": [
       "32"
      ]
     },
     "execution_count": 44,
     "metadata": {},
     "output_type": "execute_result"
    }
   ],
   "source": [
    "2*2*2*2*2"
   ]
  },
  {
   "cell_type": "code",
   "execution_count": 46,
   "id": "43ae83fd-0b6f-4f3f-b11f-8642a3181e5c",
   "metadata": {},
   "outputs": [
    {
     "data": {
      "text/plain": [
       "32"
      ]
     },
     "execution_count": 46,
     "metadata": {},
     "output_type": "execute_result"
    }
   ],
   "source": [
    "2 ** 5 #exponentaion"
   ]
  },
  {
   "cell_type": "code",
   "execution_count": 48,
   "id": "c184d258-0ef7-48a5-a215-200690aad958",
   "metadata": {},
   "outputs": [
    {
     "data": {
      "text/plain": [
       "0"
      ]
     },
     "execution_count": 48,
     "metadata": {},
     "output_type": "execute_result"
    }
   ],
   "source": [
    "14 % 2 #Modulus [Remainder]"
   ]
  },
  {
   "cell_type": "code",
   "execution_count": 7,
   "id": "2b0e2e74-2649-4129-a384-6973a77fefc3",
   "metadata": {},
   "outputs": [
    {
     "name": "stdout",
     "output_type": "stream",
     "text": [
      "15\n",
      "7.8\n",
      "Mandeep\n",
      "(8+9j)\n",
      "True\n"
     ]
    }
   ],
   "source": [
    "a,b,c,d,e = 15, 7.8, 'Mandeep', 8+9j, True\n",
    "print(a)\n",
    "print(b)\n",
    "print(c)\n",
    "print(d)\n",
    "print(e)"
   ]
  },
  {
   "cell_type": "code",
   "execution_count": 9,
   "id": "943f0627-fd23-41af-9cd8-3e97e658cf0e",
   "metadata": {},
   "outputs": [
    {
     "name": "stdout",
     "output_type": "stream",
     "text": [
      "<class 'int'>\n",
      "<class 'float'>\n",
      "<class 'str'>\n",
      "<class 'complex'>\n",
      "<class 'bool'>\n"
     ]
    }
   ],
   "source": [
    "print(type(a))\n",
    "print(type(b))\n",
    "print(type(c))\n",
    "print(type(d))\n",
    "print(type(e))"
   ]
  },
  {
   "cell_type": "markdown",
   "id": "8c5fdb30-4ab3-449c-a489-21d2dcca2d6f",
   "metadata": {},
   "source": [
    "##### A function is a block of code which only runs when it is called. You can pass data, known as parameters, into a function. A function can return data as a result."
   ]
  },
  {
   "cell_type": "markdown",
   "id": "22287580-0d32-441d-8fd5-84af92ac6834",
   "metadata": {},
   "source": [
    "###### Lets see print()"
   ]
  },
  {
   "cell_type": "code",
   "execution_count": 13,
   "id": "f34c445c-b0b9-497d-93c5-1166c5249e1a",
   "metadata": {},
   "outputs": [
    {
     "name": "stdout",
     "output_type": "stream",
     "text": [
      "Hello World\n"
     ]
    }
   ],
   "source": [
    "print('Hello World')"
   ]
  },
  {
   "cell_type": "code",
   "execution_count": 15,
   "id": "c01d402a-d48d-4f20-b44f-0d9b8dc8725d",
   "metadata": {},
   "outputs": [
    {
     "data": {
      "text/plain": [
       "5"
      ]
     },
     "execution_count": 15,
     "metadata": {},
     "output_type": "execute_result"
    }
   ],
   "source": [
    "a = 2\n",
    "b = 3\n",
    "a+b"
   ]
  },
  {
   "cell_type": "code",
   "execution_count": 17,
   "id": "9091fa94-1622-4bf9-a753-88c4d49a5554",
   "metadata": {},
   "outputs": [
    {
     "data": {
      "text/plain": [
       "5"
      ]
     },
     "execution_count": 17,
     "metadata": {},
     "output_type": "execute_result"
    }
   ],
   "source": [
    "c = a + b\n",
    "c"
   ]
  },
  {
   "cell_type": "code",
   "execution_count": 19,
   "id": "77a40506-c043-49e0-b156-8024ed6155d9",
   "metadata": {},
   "outputs": [
    {
     "name": "stdout",
     "output_type": "stream",
     "text": [
      "Mandeep's \"Technology\"\n"
     ]
    }
   ],
   "source": [
    "print('Mandeep\\'s \"Technology\"') #\\ has some special meaning to ignore the error"
   ]
  },
  {
   "cell_type": "code",
   "execution_count": 25,
   "id": "537eda95-4a53-443d-bc61-c4370fc71c77",
   "metadata": {},
   "outputs": [
    {
     "data": {
      "text/plain": [
       "'red red'"
      ]
     },
     "execution_count": 25,
     "metadata": {},
     "output_type": "execute_result"
    }
   ],
   "source": [
    "#print the nit 2 times\n",
    "'red' + ' red'"
   ]
  },
  {
   "cell_type": "code",
   "execution_count": 29,
   "id": "f1895b4a-068f-4942-bec2-23cb2fcf102a",
   "metadata": {},
   "outputs": [
    {
     "data": {
      "text/plain": [
       "' five five five five five'"
      ]
     },
     "execution_count": 29,
     "metadata": {},
     "output_type": "execute_result"
    }
   ],
   "source": [
    "#5 time print\n",
    "5* ' five'"
   ]
  },
  {
   "cell_type": "markdown",
   "id": "1c6c9a07-f877-4834-82f2-eabe1c3e357a",
   "metadata": {},
   "source": [
    "###### \\n ---New line"
   ]
  },
  {
   "cell_type": "code",
   "execution_count": 32,
   "id": "954be19e-1696-4e55-b873-23a044c7fe6f",
   "metadata": {},
   "outputs": [
    {
     "name": "stdout",
     "output_type": "stream",
     "text": [
      "Hello\n",
      "Yoo\n"
     ]
    }
   ],
   "source": [
    "print('Hello\\nYoo') #\\n --- new line"
   ]
  },
  {
   "cell_type": "markdown",
   "id": "67aa6d0f-f266-4121-8948-f8ff55448607",
   "metadata": {},
   "source": [
    "### Print result with string"
   ]
  },
  {
   "cell_type": "code",
   "execution_count": 35,
   "id": "47cd2b45-8904-4a64-90fa-b1da734b0f44",
   "metadata": {},
   "outputs": [
    {
     "name": "stdout",
     "output_type": "stream",
     "text": [
      "The addition of 20 and 30 is = 50\n"
     ]
    }
   ],
   "source": [
    "num1 = 20\n",
    "num2 = 30\n",
    "add=num1+num2\n",
    "print('The addition of',num1,'and',num2,'is =',add)"
   ]
  },
  {
   "cell_type": "markdown",
   "id": "48488a84-e039-453c-bdea-da03b27b5aa2",
   "metadata": {},
   "source": [
    "### .format( ) string print method"
   ]
  },
  {
   "cell_type": "code",
   "execution_count": 40,
   "id": "7c4012de-5152-437d-aded-358c97683d4b",
   "metadata": {},
   "outputs": [
    {
     "name": "stdout",
     "output_type": "stream",
     "text": [
      "The addition of20 and 30 is = 50\n"
     ]
    }
   ],
   "source": [
    "num1 = 20\n",
    "num2 = 30\n",
    "add = num1 + num2\n",
    "print(f'The addition of{num1} and {num2} is = {add}')"
   ]
  },
  {
   "cell_type": "markdown",
   "id": "7db1685a-6708-443e-a7ba-83f71bb0f172",
   "metadata": {},
   "source": [
    "### round ( ) : Rounds a number to a given precision in decimal digits."
   ]
  },
  {
   "cell_type": "code",
   "execution_count": 45,
   "id": "50cdc9f8-2a7d-4272-9d23-2fda7744d63e",
   "metadata": {},
   "outputs": [
    {
     "name": "stdout",
     "output_type": "stream",
     "text": [
      "The avrage of 100, 25 and 333 is = 153\n"
     ]
    }
   ],
   "source": [
    "num1 = 100\n",
    "num2 = 25\n",
    "num3 = 333\n",
    "avg = round((num1+num2+num3)/3)\n",
    "print(f'The avrage of {num1}, {num2} and {num3} is = {avg}')"
   ]
  },
  {
   "cell_type": "code",
   "execution_count": 49,
   "id": "7972fc4b-d15d-401b-b8cd-44d7315c566c",
   "metadata": {},
   "outputs": [
    {
     "name": "stdout",
     "output_type": "stream",
     "text": [
      "The addition of 10 20 is= 30\n",
      "The addition of 10 and 20 is = 30\n",
      "The addition of 10 and 20 is= 30\n"
     ]
    }
   ],
   "source": [
    "# let's combine all \n",
    "num1 = 10\n",
    "num2 = 20\n",
    "add = num1 + num2\n",
    "print('The addition of', num1,num2,'is=',add)\n",
    "print('The addition of {} and {} is = {}'.format(num1,num2,add))\n",
    "print(f'The addition of {num1} and {num2} is= {add}')"
   ]
  },
  {
   "cell_type": "markdown",
   "id": "add1aa39-686c-4134-9495-6fcd370ce2d6",
   "metadata": {},
   "source": [
    "#### End Statement: Starts next string at end of earlier string"
   ]
  },
  {
   "cell_type": "code",
   "execution_count": 54,
   "id": "e4f46727-b203-4a25-83be-5616a3c28c4b",
   "metadata": {},
   "outputs": [
    {
     "name": "stdout",
     "output_type": "stream",
     "text": [
      "hello\n",
      "Good morinnning\n"
     ]
    }
   ],
   "source": [
    "print('hello') #1st statement\n",
    "print('Good morinnning') #2 statemet\n",
    "# i want print like:-hello good morning"
   ]
  },
  {
   "cell_type": "code",
   "execution_count": 71,
   "id": "bec020ef-9616-4eaa-a935-580f757de9b6",
   "metadata": {},
   "outputs": [
    {
     "name": "stdout",
     "output_type": "stream",
     "text": [
      "hello\n",
      "Good morinnning_"
     ]
    }
   ],
   "source": [
    "print('hello') #1st statement\n",
    "print('Good morinnning', end='_') #2 statemet\n",
    "# i want print like:-hello good morning"
   ]
  },
  {
   "cell_type": "markdown",
   "id": "359d1a4c-4d9a-4913-89d8-718061b9c874",
   "metadata": {},
   "source": [
    "## Seprator"
   ]
  },
  {
   "cell_type": "markdown",
   "id": "c910ae6d-4d6d-495d-8b86-75bb475911c6",
   "metadata": {},
   "source": [
    "##### 1. here one print statement only we use"
   ]
  },
  {
   "cell_type": "markdown",
   "id": "c6819620-d525-4e60-91bb-a048fdfd160c",
   "metadata": {},
   "source": [
    "##### 2. insisde one print statement we have multipal value."
   ]
  },
  {
   "cell_type": "markdown",
   "id": "9791b5c6-7b23-4a53-af28-f62a1384eac3",
   "metadata": {},
   "source": [
    "##### 3. we want to seperate these multipal values with anythingsng"
   ]
  },
  {
   "cell_type": "code",
   "execution_count": 63,
   "id": "0c8dc0c2-f52d-44b5-9fee-b36a02b2979f",
   "metadata": {},
   "outputs": [
    {
     "name": "stdout",
     "output_type": "stream",
     "text": [
      "Hello---->hey---->how are you\n"
     ]
    }
   ],
   "source": [
    "print('Hello','hey','how are you',sep='---->')"
   ]
  },
  {
   "cell_type": "code",
   "execution_count": 73,
   "id": "924bb74c-a393-4e3c-af85-97900ff60977",
   "metadata": {},
   "outputs": [
    {
     "name": "stdout",
     "output_type": "stream",
     "text": [
      "One♥Two♥Three\n"
     ]
    }
   ],
   "source": [
    "print('One','Two','Three',sep=\"♥\")"
   ]
  },
  {
   "cell_type": "code",
   "execution_count": 75,
   "id": "b39b6d28-cab8-4778-af86-27a1338aa748",
   "metadata": {},
   "outputs": [
    {
     "name": "stdout",
     "output_type": "stream",
     "text": [
      "3 .\n"
     ]
    }
   ],
   "source": [
    "print(3,    \".\")"
   ]
  },
  {
   "cell_type": "markdown",
   "id": "77d99d1e-32e0-4ad1-935a-e32af6a0b795",
   "metadata": {},
   "source": [
    "# Operators"
   ]
  },
  {
   "cell_type": "markdown",
   "id": "fa18ec7e-e5ef-4f5c-bc1b-35dc70763bde",
   "metadata": {},
   "source": [
    "##### 1. Arithmetic Operators:"
   ]
  },
  {
   "cell_type": "markdown",
   "id": "8abc83c0-4d74-4ad6-905b-7355bd61b22f",
   "metadata": {},
   "source": [
    "###### +, -, , /, %, *"
   ]
  },
  {
   "cell_type": "markdown",
   "id": "61e30c35-16f5-449d-8ff9-b33b8feb9093",
   "metadata": {},
   "source": [
    "##### 2. Assignment Operators:"
   ]
  },
  {
   "cell_type": "markdown",
   "id": "ee060bd1-0b2c-4818-9e89-ee5b51eb2529",
   "metadata": {},
   "source": [
    "###### =, +=, -=, &=, *="
   ]
  },
  {
   "cell_type": "markdown",
   "id": "562b4b12-c8d5-4e1f-80ff-08ea1bd89ed1",
   "metadata": {},
   "source": [
    "##### 3. Relational Operators:"
   ]
  },
  {
   "cell_type": "markdown",
   "id": "6cd2fd0d-0d9c-494f-823b-898f60a70080",
   "metadata": {},
   "source": [
    "###### <, <=, >, >=, ==, !="
   ]
  },
  {
   "cell_type": "markdown",
   "id": "a4d0dcf1-0c9f-412d-a6cc-a80ac25fa0e7",
   "metadata": {},
   "source": [
    "##### 4. Logical Operators:"
   ]
  },
  {
   "cell_type": "markdown",
   "id": "332915a7-62bf-4ae7-b78b-d41e4cc9ee08",
   "metadata": {},
   "source": [
    "###### AND( & ), OR( | ), NOT( ~ ), XOR( ^ ), right shift( >> ), left shift(<< )"
   ]
  },
  {
   "cell_type": "markdown",
   "id": "cbcb1ee8-aca7-46a1-93eb-68dd77394cbc",
   "metadata": {},
   "source": [
    "##### 5. Unary Operators"
   ]
  },
  {
   "cell_type": "markdown",
   "id": "22d862ca-910e-4d89-83f6-8a7dbb223cb5",
   "metadata": {},
   "source": [
    "###### -, eg:-5"
   ]
  },
  {
   "cell_type": "markdown",
   "id": "7ad71fca-2004-4d0d-a32f-1170ae5c3376",
   "metadata": {},
   "source": [
    "# Arithmetic Operators:"
   ]
  },
  {
   "cell_type": "code",
   "execution_count": 93,
   "id": "5a9337d1-c434-47da-9dbd-428c0a49dec8",
   "metadata": {},
   "outputs": [
    {
     "data": {
      "text/plain": [
       "15"
      ]
     },
     "execution_count": 93,
     "metadata": {},
     "output_type": "execute_result"
    }
   ],
   "source": [
    "x1, y1 = 10, 5\n",
    "x1 + y1"
   ]
  },
  {
   "cell_type": "code",
   "execution_count": 95,
   "id": "4d9b675e-5def-4371-ad93-ba15b22973ec",
   "metadata": {},
   "outputs": [
    {
     "data": {
      "text/plain": [
       "5"
      ]
     },
     "execution_count": 95,
     "metadata": {},
     "output_type": "execute_result"
    }
   ],
   "source": [
    "x1 - y1"
   ]
  },
  {
   "cell_type": "code",
   "execution_count": 97,
   "id": "0ba912be-72fe-4b79-8acd-5e064c205f16",
   "metadata": {},
   "outputs": [
    {
     "data": {
      "text/plain": [
       "50"
      ]
     },
     "execution_count": 97,
     "metadata": {},
     "output_type": "execute_result"
    }
   ],
   "source": [
    "x1 * y1"
   ]
  },
  {
   "cell_type": "code",
   "execution_count": 99,
   "id": "6cb651d3-1b3d-4e1a-98c4-08cf6f9def42",
   "metadata": {},
   "outputs": [
    {
     "data": {
      "text/plain": [
       "2.0"
      ]
     },
     "execution_count": 99,
     "metadata": {},
     "output_type": "execute_result"
    }
   ],
   "source": [
    "x1 / y1"
   ]
  },
  {
   "cell_type": "code",
   "execution_count": 101,
   "id": "18677d8c-8083-4d46-b32d-5110330850b1",
   "metadata": {},
   "outputs": [
    {
     "data": {
      "text/plain": [
       "2"
      ]
     },
     "execution_count": 101,
     "metadata": {},
     "output_type": "execute_result"
    }
   ],
   "source": [
    "x1 // y1"
   ]
  },
  {
   "cell_type": "code",
   "execution_count": 103,
   "id": "d324286d-9344-41c1-8a30-79b9ffd5b4f1",
   "metadata": {},
   "outputs": [
    {
     "data": {
      "text/plain": [
       "0"
      ]
     },
     "execution_count": 103,
     "metadata": {},
     "output_type": "execute_result"
    }
   ],
   "source": [
    "x1 % y1"
   ]
  },
  {
   "cell_type": "code",
   "execution_count": 105,
   "id": "2c9e8b38-1af5-4cff-bad6-5ccab6e8281e",
   "metadata": {},
   "outputs": [
    {
     "data": {
      "text/plain": [
       "100000"
      ]
     },
     "execution_count": 105,
     "metadata": {},
     "output_type": "execute_result"
    }
   ],
   "source": [
    "x1 ** y1"
   ]
  },
  {
   "cell_type": "code",
   "execution_count": 107,
   "id": "6116af41-6e2f-4541-b2c9-780aa3820e45",
   "metadata": {},
   "outputs": [
    {
     "data": {
      "text/plain": [
       "8"
      ]
     },
     "execution_count": 107,
     "metadata": {},
     "output_type": "execute_result"
    }
   ],
   "source": [
    "2 ** 3"
   ]
  },
  {
   "cell_type": "markdown",
   "id": "c93388f0-1395-4f3f-bbca-059816d40e48",
   "metadata": {},
   "source": [
    "# Assignment operator"
   ]
  },
  {
   "cell_type": "code",
   "execution_count": 134,
   "id": "73a95851-6f98-4e26-9986-112d2631f7b3",
   "metadata": {},
   "outputs": [],
   "source": [
    "x = 2"
   ]
  },
  {
   "cell_type": "code",
   "execution_count": 136,
   "id": "34c92a67-ef28-4347-b2ca-d6f7ed566847",
   "metadata": {},
   "outputs": [
    {
     "data": {
      "text/plain": [
       "4"
      ]
     },
     "execution_count": 136,
     "metadata": {},
     "output_type": "execute_result"
    }
   ],
   "source": [
    "x = x + 2\n",
    "x"
   ]
  },
  {
   "cell_type": "code",
   "execution_count": 138,
   "id": "22bf2e95-6a4f-4979-ac4b-2116052da002",
   "metadata": {},
   "outputs": [
    {
     "data": {
      "text/plain": [
       "6"
      ]
     },
     "execution_count": 138,
     "metadata": {},
     "output_type": "execute_result"
    }
   ],
   "source": [
    "x += 2\n",
    "x"
   ]
  },
  {
   "cell_type": "code",
   "execution_count": 140,
   "id": "6f20847b-17bb-4162-9c51-0ada50f9f750",
   "metadata": {},
   "outputs": [
    {
     "data": {
      "text/plain": [
       "8"
      ]
     },
     "execution_count": 140,
     "metadata": {},
     "output_type": "execute_result"
    }
   ],
   "source": [
    "x += 2\n",
    "x"
   ]
  },
  {
   "cell_type": "code",
   "execution_count": 142,
   "id": "72271502-c33d-4a87-befa-c7bc46d47ed6",
   "metadata": {},
   "outputs": [
    {
     "data": {
      "text/plain": [
       "16"
      ]
     },
     "execution_count": 142,
     "metadata": {},
     "output_type": "execute_result"
    }
   ],
   "source": [
    "x *= 2\n",
    "x"
   ]
  },
  {
   "cell_type": "code",
   "execution_count": 144,
   "id": "53909322-6b38-4e13-9c12-025fd8d64d76",
   "metadata": {},
   "outputs": [
    {
     "data": {
      "text/plain": [
       "14"
      ]
     },
     "execution_count": 144,
     "metadata": {},
     "output_type": "execute_result"
    }
   ],
   "source": [
    "x -= 2\n",
    "x"
   ]
  },
  {
   "cell_type": "code",
   "execution_count": 146,
   "id": "7309c6c2-869b-4783-8e8a-6f977d645731",
   "metadata": {},
   "outputs": [
    {
     "data": {
      "text/plain": [
       "7.0"
      ]
     },
     "execution_count": 146,
     "metadata": {},
     "output_type": "execute_result"
    }
   ],
   "source": [
    "x /= 2\n",
    "x"
   ]
  },
  {
   "cell_type": "markdown",
   "id": "bfcfa98d-65e3-4bf4-91f1-786f2cccfaed",
   "metadata": {},
   "source": [
    "# Unary Operator"
   ]
  },
  {
   "cell_type": "markdown",
   "id": "5a133665-a4fd-409c-a631-d03a74ff0930",
   "metadata": {},
   "source": [
    "###### In Python, a unary operator is an operator that takes only one operand (a single value or variable) and performs an operation. Common unary operators in Python include:"
   ]
  },
  {
   "cell_type": "markdown",
   "id": "edfa8cf0-45a8-4508-9238-97257f679a3f",
   "metadata": {},
   "source": [
    "##### 1. Unary Plus (+): This operator is used to indicate a positive value. It doesn't change the value of its operand."
   ]
  },
  {
   "cell_type": "code",
   "execution_count": 159,
   "id": "13682855-c9b1-4dd0-a9f7-eab572856bef",
   "metadata": {},
   "outputs": [],
   "source": [
    "a = 5\n",
    "b = +a  # b is 5"
   ]
  },
  {
   "cell_type": "code",
   "execution_count": 161,
   "id": "cb86ca10-87ed-4df9-af2a-3fc328d10ddd",
   "metadata": {},
   "outputs": [
    {
     "data": {
      "text/plain": [
       "5"
      ]
     },
     "execution_count": 161,
     "metadata": {},
     "output_type": "execute_result"
    }
   ],
   "source": [
    "b"
   ]
  },
  {
   "cell_type": "markdown",
   "id": "ab6d2860-1d3e-4105-a740-9d9dbcae631c",
   "metadata": {},
   "source": [
    "##### 2. Unary Minus (-): This operator is used to negate the value of its operand (i.e., it changes the sign)."
   ]
  },
  {
   "cell_type": "code",
   "execution_count": 164,
   "id": "b906cfc8-4e2e-4cce-9c99-fc3855ad8095",
   "metadata": {},
   "outputs": [],
   "source": [
    "a = 5\n",
    "b = -a  # b is -5"
   ]
  },
  {
   "cell_type": "code",
   "execution_count": 166,
   "id": "8cfc951b-e139-4073-817f-e680a95c9eea",
   "metadata": {},
   "outputs": [
    {
     "data": {
      "text/plain": [
       "-5"
      ]
     },
     "execution_count": 166,
     "metadata": {},
     "output_type": "execute_result"
    }
   ],
   "source": [
    "b"
   ]
  },
  {
   "cell_type": "markdown",
   "id": "495e5f5e-17b5-4463-83fa-0c482f13c3db",
   "metadata": {},
   "source": [
    "##### 3. Logical NOT (not): This operator is used to invert the Boolean value of its operand."
   ]
  },
  {
   "cell_type": "code",
   "execution_count": 179,
   "id": "d4ea3d26-a840-4542-abdc-821b0a6935bc",
   "metadata": {},
   "outputs": [],
   "source": [
    "a = True\n",
    "b = not a  # b is False"
   ]
  },
  {
   "cell_type": "code",
   "execution_count": 181,
   "id": "c922ef68-a040-4dc9-9549-f6469ed44de6",
   "metadata": {},
   "outputs": [
    {
     "data": {
      "text/plain": [
       "False"
      ]
     },
     "execution_count": 181,
     "metadata": {},
     "output_type": "execute_result"
    }
   ],
   "source": [
    "b"
   ]
  },
  {
   "cell_type": "markdown",
   "id": "5b85f45e-1af2-4d5d-927a-663295e6b2a4",
   "metadata": {},
   "source": [
    "# Relational operator"
   ]
  },
  {
   "cell_type": "markdown",
   "id": "635ed42b-a2f2-474f-9455-05e6c3ca819b",
   "metadata": {},
   "source": [
    "#### We use this operator for comparision"
   ]
  },
  {
   "cell_type": "code",
   "execution_count": 187,
   "id": "66b89816-20aa-4cd9-b047-4b191c0dca34",
   "metadata": {},
   "outputs": [],
   "source": [
    "a = 5\n",
    "b = 7"
   ]
  },
  {
   "cell_type": "code",
   "execution_count": 190,
   "id": "ff3420bc-da96-4393-b5d9-d5569b925acf",
   "metadata": {},
   "outputs": [
    {
     "data": {
      "text/plain": [
       "False"
      ]
     },
     "execution_count": 190,
     "metadata": {},
     "output_type": "execute_result"
    }
   ],
   "source": [
    "a == b"
   ]
  },
  {
   "cell_type": "code",
   "execution_count": 194,
   "id": "d9e920e5-3220-49e2-8ac0-17cdcfc75563",
   "metadata": {},
   "outputs": [
    {
     "data": {
      "text/plain": [
       "True"
      ]
     },
     "execution_count": 194,
     "metadata": {},
     "output_type": "execute_result"
    }
   ],
   "source": [
    "a<b"
   ]
  },
  {
   "cell_type": "code",
   "execution_count": 196,
   "id": "ffcdd888-c16b-4c58-9be7-6b66437e0be7",
   "metadata": {},
   "outputs": [
    {
     "data": {
      "text/plain": [
       "False"
      ]
     },
     "execution_count": 196,
     "metadata": {},
     "output_type": "execute_result"
    }
   ],
   "source": [
    "a>b"
   ]
  },
  {
   "cell_type": "markdown",
   "id": "892a824b-3911-4a85-bf91-ccd6e6e96946",
   "metadata": {},
   "source": [
    "##### a = b; we cannot use = operator; because that means it is assigning"
   ]
  },
  {
   "cell_type": "code",
   "execution_count": 199,
   "id": "c2dc729c-d81f-4e3a-9897-04636255be61",
   "metadata": {},
   "outputs": [
    {
     "data": {
      "text/plain": [
       "False"
      ]
     },
     "execution_count": 199,
     "metadata": {},
     "output_type": "execute_result"
    }
   ],
   "source": [
    "a>=b"
   ]
  },
  {
   "cell_type": "code",
   "execution_count": 201,
   "id": "a23e32ab-d2c9-4c42-8c42-8e1f290cf43f",
   "metadata": {},
   "outputs": [
    {
     "data": {
      "text/plain": [
       "True"
      ]
     },
     "execution_count": 201,
     "metadata": {},
     "output_type": "execute_result"
    }
   ],
   "source": [
    "a<=b"
   ]
  },
  {
   "cell_type": "code",
   "execution_count": 203,
   "id": "4c49fe59-5008-461d-a65d-8fae454393b4",
   "metadata": {},
   "outputs": [
    {
     "data": {
      "text/plain": [
       "True"
      ]
     },
     "execution_count": 203,
     "metadata": {},
     "output_type": "execute_result"
    }
   ],
   "source": [
    "a != b"
   ]
  },
  {
   "cell_type": "markdown",
   "id": "59b940fc-687a-45d7-b234-3f2c84e385df",
   "metadata": {},
   "source": [
    "# LOGICAL OPERATOR"
   ]
  },
  {
   "cell_type": "markdown",
   "id": "3988f166-10cb-4264-ae86-21996fe43b8d",
   "metadata": {},
   "source": [
    "##### AND, OR, NOT(~)"
   ]
  },
  {
   "cell_type": "markdown",
   "id": "5c39bc61-8781-40ad-b021-e2b21ec55008",
   "metadata": {},
   "source": [
    "###### AND --> &; and"
   ]
  },
  {
   "cell_type": "markdown",
   "id": "02ac1e28-b778-48c3-ae3f-3f882672a0c8",
   "metadata": {},
   "source": [
    "x, y --> xy "
   ]
  },
  {
   "cell_type": "markdown",
   "id": "f583663e-2961-495e-8297-c1007d68a4d6",
   "metadata": {},
   "source": [
    "0, 0 --> 0"
   ]
  },
  {
   "cell_type": "markdown",
   "id": "ddc3259f-c243-44be-b3ba-e3d404b0eebc",
   "metadata": {},
   "source": [
    "0, 1 --> 0"
   ]
  },
  {
   "cell_type": "markdown",
   "id": "26c6ca21-5d8e-4942-bdf5-a43906902cb1",
   "metadata": {},
   "source": [
    "1, 0 --> 0"
   ]
  },
  {
   "cell_type": "markdown",
   "id": "285f1e15-3623-4377-a565-73fb342f387f",
   "metadata": {},
   "source": [
    "1, 1 --> 1"
   ]
  },
  {
   "cell_type": "markdown",
   "id": "24ccd4c0-52f1-4cc4-a61c-cffb132d2928",
   "metadata": {},
   "source": [
    "###### OR --> |; or"
   ]
  },
  {
   "cell_type": "markdown",
   "id": "1709c00a-8fde-4da7-87c7-70a2efc14bb6",
   "metadata": {},
   "source": [
    "x, y --> xy\n",
    "0, 0 --> 0\n",
    "0, 1 --> 1\n",
    "1, 0 --> 1\n",
    "1, 1 --> 1"
   ]
  },
  {
   "cell_type": "markdown",
   "id": "8401ced3-a4f8-49e3-900e-217d01468322",
   "metadata": {},
   "source": [
    "###### XOR --> ^"
   ]
  },
  {
   "cell_type": "markdown",
   "id": "11ed0f53-c973-4e2b-ad63-f24d2197668e",
   "metadata": {},
   "source": [
    "###### x,y --> xy"
   ]
  },
  {
   "cell_type": "markdown",
   "id": "cd7f3808-d75f-437d-9106-6b00737671bd",
   "metadata": {},
   "source": [
    "###### 0,0 --> 0"
   ]
  },
  {
   "cell_type": "markdown",
   "id": "cd60c780-75c4-4e82-bb4f-b1a3eefc09eb",
   "metadata": {},
   "source": [
    "###### 0,1 --> 1"
   ]
  },
  {
   "cell_type": "markdown",
   "id": "d622cb77-cc06-4677-bee0-b8b1332bf734",
   "metadata": {},
   "source": [
    "###### 1,0 --> 1"
   ]
  },
  {
   "cell_type": "markdown",
   "id": "4727c383-4364-43bc-b6c5-ca0e972e7473",
   "metadata": {},
   "source": [
    "###### 1,1 --> 0"
   ]
  },
  {
   "cell_type": "code",
   "execution_count": 231,
   "id": "8ae4e829-7c2d-4667-8b8b-e32884b182a3",
   "metadata": {},
   "outputs": [],
   "source": [
    "a = 5\n",
    "b = 4"
   ]
  },
  {
   "cell_type": "code",
   "execution_count": 233,
   "id": "367b6739-76b9-409b-abdf-39b8145a5d1e",
   "metadata": {},
   "outputs": [
    {
     "data": {
      "text/plain": [
       "True"
      ]
     },
     "execution_count": 233,
     "metadata": {},
     "output_type": "execute_result"
    }
   ],
   "source": [
    "a < 8 and b < 5"
   ]
  },
  {
   "cell_type": "code",
   "execution_count": 237,
   "id": "eb74494f-3b84-4ce2-a444-d0224bb7a7f8",
   "metadata": {},
   "outputs": [
    {
     "data": {
      "text/plain": [
       "True"
      ]
     },
     "execution_count": 237,
     "metadata": {},
     "output_type": "execute_result"
    }
   ],
   "source": [
    "a < 8 or b < 2"
   ]
  },
  {
   "cell_type": "code",
   "execution_count": 239,
   "id": "0971e9a1-b5c8-4c95-b893-150d71ef8d23",
   "metadata": {},
   "outputs": [
    {
     "data": {
      "text/plain": [
       "False"
      ]
     },
     "execution_count": 239,
     "metadata": {},
     "output_type": "execute_result"
    }
   ],
   "source": [
    "x = False\n",
    "x"
   ]
  },
  {
   "cell_type": "code",
   "execution_count": 241,
   "id": "9a7ab930-6b9a-4e2c-b7ce-697823fe5b40",
   "metadata": {},
   "outputs": [
    {
     "data": {
      "text/plain": [
       "True"
      ]
     },
     "execution_count": 241,
     "metadata": {},
     "output_type": "execute_result"
    }
   ],
   "source": [
    "not x #you can reverse the operation"
   ]
  },
  {
   "cell_type": "code",
   "execution_count": 243,
   "id": "cbe4c73e-c788-45d8-9128-077b3a050cbf",
   "metadata": {},
   "outputs": [
    {
     "data": {
      "text/plain": [
       "False"
      ]
     },
     "execution_count": 243,
     "metadata": {},
     "output_type": "execute_result"
    }
   ],
   "source": [
    "a < 8 ^ b < 5"
   ]
  },
  {
   "cell_type": "markdown",
   "id": "2899e571-c8b1-4ddb-b4d9-836bdec21711",
   "metadata": {},
   "source": [
    "# Number system conversion :"
   ]
  },
  {
   "cell_type": "markdown",
   "id": "8dba3280-dad1-4b07-8215-1755b9bcc94c",
   "metadata": {},
   "source": [
    "Binary --> 0&1 ; eg 10:1010"
   ]
  },
  {
   "cell_type": "markdown",
   "id": "818381bf-e7f3-4099-98e4-61a1dbfbd4e9",
   "metadata": {},
   "source": [
    "            64 32 16 8 2 1 <-----"
   ]
  },
  {
   "cell_type": "markdown",
   "id": "736536fe-cc66-451e-b43c-6eaebf5e56d1",
   "metadata": {},
   "source": [
    "Octal--> 0 -7"
   ]
  },
  {
   "cell_type": "markdown",
   "id": "3004b03b-6804-4a15-aa24-a025a2417c73",
   "metadata": {},
   "source": [
    "Decimal --> 0-9"
   ]
  },
  {
   "cell_type": "markdown",
   "id": "43a29fee-873e-45c1-8607-f328a505ce9c",
   "metadata": {},
   "source": [
    "Hexadecimal--> 0-9, A=10,B=11, C=12,..."
   ]
  },
  {
   "cell_type": "markdown",
   "id": "d85178a6-7744-4c78-b96d-861996d772af",
   "metadata": {},
   "source": [
    "# Binary"
   ]
  },
  {
   "cell_type": "code",
   "execution_count": 257,
   "id": "797e1769-1136-40c3-a431-f8aab93fcc2c",
   "metadata": {},
   "outputs": [
    {
     "data": {
      "text/plain": [
       "25"
      ]
     },
     "execution_count": 257,
     "metadata": {},
     "output_type": "execute_result"
    }
   ],
   "source": [
    "25"
   ]
  },
  {
   "cell_type": "code",
   "execution_count": 259,
   "id": "9167dcc2-ba14-4644-a95a-e375313156ed",
   "metadata": {},
   "outputs": [
    {
     "data": {
      "text/plain": [
       "'0b11001'"
      ]
     },
     "execution_count": 259,
     "metadata": {},
     "output_type": "execute_result"
    }
   ],
   "source": [
    "bin(25)"
   ]
  },
  {
   "cell_type": "markdown",
   "id": "0f60f39a-308b-4b49-9749-7415fa4716db",
   "metadata": {},
   "source": [
    "## 25: factorisation by 2: for BINARY"
   ]
  },
  {
   "cell_type": "code",
   "execution_count": 262,
   "id": "34d0f587-14bc-44ab-a5e4-b19ffd193947",
   "metadata": {},
   "outputs": [
    {
     "data": {
      "text/plain": [
       "27"
      ]
     },
     "execution_count": 262,
     "metadata": {},
     "output_type": "execute_result"
    }
   ],
   "source": [
    "2 | 25"
   ]
  },
  {
   "cell_type": "markdown",
   "id": "929c8baf-51cb-4dce-a8a8-8a75e3201d73",
   "metadata": {},
   "source": [
    "###### 2|12--> remainder 1"
   ]
  },
  {
   "cell_type": "markdown",
   "id": "c66213ef-ae49-448f-a0b0-e01716892903",
   "metadata": {},
   "source": [
    "###### 2 | 6 --> remainder 0"
   ]
  },
  {
   "cell_type": "markdown",
   "id": "285d786f-5a88-48da-b1f5-134199fae81d",
   "metadata": {},
   "source": [
    "###### 2 | 3 --> remainder 0"
   ]
  },
  {
   "cell_type": "markdown",
   "id": "f54431fd-479c-4f51-957e-069c624008cb",
   "metadata": {},
   "source": [
    "###### | 1 --> remainder 1"
   ]
  },
  {
   "cell_type": "markdown",
   "id": "c76eb255-c914-479b-9d90-d1da3ba75bda",
   "metadata": {},
   "source": [
    "###### therefore binary of 25 = 1001"
   ]
  },
  {
   "cell_type": "code",
   "execution_count": 269,
   "id": "a3f273b4-a5f8-471d-9197-2f0a2c44c5f3",
   "metadata": {},
   "outputs": [
    {
     "data": {
      "text/plain": [
       "25"
      ]
     },
     "execution_count": 269,
     "metadata": {},
     "output_type": "execute_result"
    }
   ],
   "source": [
    "int(0b11001)"
   ]
  },
  {
   "cell_type": "markdown",
   "id": "f0a4b360-4f12-45b8-b892-75ab2b4e7e79",
   "metadata": {},
   "source": [
    "## Octal"
   ]
  },
  {
   "cell_type": "code",
   "execution_count": 272,
   "id": "21267f75-1962-46b9-a263-8b9738097546",
   "metadata": {},
   "outputs": [
    {
     "data": {
      "text/plain": [
       "'0o17'"
      ]
     },
     "execution_count": 272,
     "metadata": {},
     "output_type": "execute_result"
    }
   ],
   "source": [
    "oct(15)"
   ]
  },
  {
   "cell_type": "markdown",
   "id": "a07c6152-87d8-4984-943d-42c25ed46fe4",
   "metadata": {},
   "source": [
    "## Hex"
   ]
  },
  {
   "cell_type": "code",
   "execution_count": 275,
   "id": "99d0a28f-7df8-411c-b4b7-5f3227dad616",
   "metadata": {},
   "outputs": [
    {
     "data": {
      "text/plain": [
       "'0x19'"
      ]
     },
     "execution_count": 275,
     "metadata": {},
     "output_type": "execute_result"
    }
   ],
   "source": [
    "hex(25)"
   ]
  },
  {
   "cell_type": "code",
   "execution_count": 277,
   "id": "1d6a88b9-a7f2-40e2-8883-f58056514f08",
   "metadata": {},
   "outputs": [
    {
     "data": {
      "text/plain": [
       "'0xa'"
      ]
     },
     "execution_count": 277,
     "metadata": {},
     "output_type": "execute_result"
    }
   ],
   "source": [
    "hex(10)"
   ]
  },
  {
   "cell_type": "code",
   "execution_count": 279,
   "id": "a79b67e4-02b7-4967-82b4-5cb87f90579c",
   "metadata": {},
   "outputs": [
    {
     "ename": "NameError",
     "evalue": "name 'decimal' is not defined",
     "output_type": "error",
     "traceback": [
      "\u001b[1;31m---------------------------------------------------------------------------\u001b[0m",
      "\u001b[1;31mNameError\u001b[0m                                 Traceback (most recent call last)",
      "Cell \u001b[1;32mIn[279], line 1\u001b[0m\n\u001b[1;32m----> 1\u001b[0m decimal(\u001b[38;5;241m10\u001b[39m)\n",
      "\u001b[1;31mNameError\u001b[0m: name 'decimal' is not defined"
     ]
    }
   ],
   "source": [
    "decimal(10)"
   ]
  },
  {
   "cell_type": "markdown",
   "id": "a52d0b34-78a8-4aa8-b971-6da3df2550be",
   "metadata": {},
   "source": [
    "## Swap variable in python"
   ]
  },
  {
   "cell_type": "markdown",
   "id": "2cbe9981-3ebc-429e-b908-a0b67f6fecdd",
   "metadata": {},
   "source": [
    "##### (a,b = 5,6) After swap we should get ==> (a, b = 6,5 )"
   ]
  },
  {
   "cell_type": "code",
   "execution_count": 358,
   "id": "0eb3ae6d-a706-4b7e-a7d3-defd5ebfff51",
   "metadata": {},
   "outputs": [],
   "source": [
    "a = 5\n",
    "b = 6"
   ]
  },
  {
   "cell_type": "code",
   "execution_count": 354,
   "id": "b2c4206a-931b-48f2-ad1a-5d661d1024be",
   "metadata": {},
   "outputs": [
    {
     "name": "stdout",
     "output_type": "stream",
     "text": [
      "6\n",
      "6\n"
     ]
    }
   ],
   "source": [
    "a = b\n",
    "b = a\n",
    "print(a)\n",
    "print(b)"
   ]
  },
  {
   "cell_type": "code",
   "execution_count": 360,
   "id": "7c27d816-4622-4296-8d9d-0291d6b26fe3",
   "metadata": {},
   "outputs": [],
   "source": [
    "a,b = b,a # Swapped"
   ]
  },
  {
   "cell_type": "code",
   "execution_count": 362,
   "id": "a0614ce9-0f6b-43c0-a0a3-3da16cf38bc2",
   "metadata": {},
   "outputs": [
    {
     "name": "stdout",
     "output_type": "stream",
     "text": [
      "6\n",
      "5\n"
     ]
    }
   ],
   "source": [
    "print(a)\n",
    "print(b)"
   ]
  },
  {
   "cell_type": "code",
   "execution_count": 372,
   "id": "24ff14f9-4daf-4d1d-929e-ce19af1b8eeb",
   "metadata": {},
   "outputs": [],
   "source": [
    "x = 10\n",
    "y = 20"
   ]
  },
  {
   "cell_type": "markdown",
   "id": "a208d4c7-d030-4a2e-a489-f66288454a5a",
   "metadata": {},
   "source": [
    "#### Swap Variable Formulas"
   ]
  },
  {
   "cell_type": "code",
   "execution_count": 364,
   "id": "d114cfa2-b44b-4b36-951f-0cd6eae442f1",
   "metadata": {},
   "outputs": [
    {
     "name": "stdout",
     "output_type": "stream",
     "text": [
      "20 10\n"
     ]
    }
   ],
   "source": [
    "x = x + y\n",
    "y = x - y\n",
    "x = x - y\n",
    "print(x,y)"
   ]
  },
  {
   "cell_type": "markdown",
   "id": "f18986a9-079f-4835-aa5b-a46f0749ec25",
   "metadata": {},
   "source": [
    "#### there is other way to work using swap variable also which is XOR"
   ]
  },
  {
   "cell_type": "code",
   "execution_count": 374,
   "id": "aad9e553-557e-4378-8f80-89c83f9edbce",
   "metadata": {},
   "outputs": [
    {
     "name": "stdout",
     "output_type": "stream",
     "text": [
      "20 10\n"
     ]
    }
   ],
   "source": [
    "x = x^y\n",
    "y = x^y\n",
    "x = x^y\n",
    "print(x,y)"
   ]
  },
  {
   "cell_type": "markdown",
   "id": "fb04ae59-8010-49be-8ee4-edb9d8465aa7",
   "metadata": {},
   "source": [
    "## complement (~)"
   ]
  },
  {
   "cell_type": "markdown",
   "id": "6063be2c-910f-4b5c-a17d-93d5502d43a9",
   "metadata": {},
   "source": [
    "##### NOT, Operator"
   ]
  },
  {
   "cell_type": "markdown",
   "id": "4c5e3821-147f-42e5-9b9b-b0aa81894257",
   "metadata": {},
   "source": [
    "##### The bitwise complement operator in Python is represented by the tilde (~). It is a unary operator that flips the bits of its operand."
   ]
  },
  {
   "cell_type": "markdown",
   "id": "483ea7c5-6a17-4bc0-8402-398ffa12b2e0",
   "metadata": {},
   "source": [
    "#### 1's Compliment --> reverse of binary format"
   ]
  },
  {
   "cell_type": "markdown",
   "id": "e2719837-8665-415e-b464-7bf55be7504d",
   "metadata": {},
   "source": [
    "###### 12 ==> 00001100"
   ]
  },
  {
   "cell_type": "markdown",
   "id": "965bc29b-c64b-4ca5-9e2d-2c165ab0dec7",
   "metadata": {},
   "source": [
    "###### ~12 ==> 11110011 ==> -13"
   ]
  },
  {
   "cell_type": "markdown",
   "id": "58e6e9d1-fa42-447b-b067-11f939673cd2",
   "metadata": {},
   "source": [
    "#### 2's complemenet --> 1's complement + 1"
   ]
  },
  {
   "cell_type": "code",
   "execution_count": 389,
   "id": "fdbba028-bed0-42b5-8fb9-1bac73910b88",
   "metadata": {},
   "outputs": [
    {
     "data": {
      "text/plain": [
       "-13"
      ]
     },
     "execution_count": 389,
     "metadata": {},
     "output_type": "execute_result"
    }
   ],
   "source": [
    "#COMPLEMENT (~) (TILDE OR TILD)\n",
    "~12 # why we get -13 ; To remember: ~x = -(x+1)"
   ]
  },
  {
   "cell_type": "code",
   "execution_count": 391,
   "id": "980aa21a-b1fd-40a6-9ba8-f750e05df5ac",
   "metadata": {},
   "outputs": [
    {
     "data": {
      "text/plain": [
       "1"
      ]
     },
     "execution_count": 391,
     "metadata": {},
     "output_type": "execute_result"
    }
   ],
   "source": [
    "~-2"
   ]
  },
  {
   "cell_type": "code",
   "execution_count": 393,
   "id": "67d0a01b-ccae-4cce-a2b4-20bc021940f1",
   "metadata": {},
   "outputs": [
    {
     "data": {
      "text/plain": [
       "12"
      ]
     },
     "execution_count": 393,
     "metadata": {},
     "output_type": "execute_result"
    }
   ],
   "source": [
    "~-13"
   ]
  },
  {
   "cell_type": "code",
   "execution_count": 395,
   "id": "1fc9b2e8-e7af-4d41-81f7-f71a2d2cfbcf",
   "metadata": {},
   "outputs": [
    {
     "data": {
      "text/plain": [
       "12"
      ]
     },
     "execution_count": 395,
     "metadata": {},
     "output_type": "execute_result"
    }
   ],
   "source": [
    "12 & 13"
   ]
  },
  {
   "cell_type": "code",
   "execution_count": 397,
   "id": "d968007e-b447-482a-ab6c-5165b1027790",
   "metadata": {},
   "outputs": [
    {
     "data": {
      "text/plain": [
       "13"
      ]
     },
     "execution_count": 397,
     "metadata": {},
     "output_type": "execute_result"
    }
   ],
   "source": [
    "13 | 12"
   ]
  },
  {
   "cell_type": "code",
   "execution_count": 399,
   "id": "9cb02cca-8cbf-451f-9f6e-f4725320dd5a",
   "metadata": {},
   "outputs": [
    {
     "data": {
      "text/plain": [
       "1"
      ]
     },
     "execution_count": 399,
     "metadata": {},
     "output_type": "execute_result"
    }
   ],
   "source": [
    "13 ^ 12"
   ]
  },
  {
   "cell_type": "markdown",
   "id": "b365cf25-0e43-4fcd-a2e0-a2be7f4f054e",
   "metadata": {},
   "source": [
    "#### In XOR i the both number are different then we will get 1 or else we will get 0"
   ]
  },
  {
   "cell_type": "code",
   "execution_count": 402,
   "id": "4ed1bc16-1c50-4cad-91aa-f62ad1c27daa",
   "metadata": {},
   "outputs": [
    {
     "data": {
      "text/plain": [
       "1"
      ]
     },
     "execution_count": 402,
     "metadata": {},
     "output_type": "execute_result"
    }
   ],
   "source": [
    "12 ^ 13"
   ]
  },
  {
   "cell_type": "code",
   "execution_count": 404,
   "id": "1e97a3d7-af05-43ef-bcba-80b84d1ce9d9",
   "metadata": {},
   "outputs": [
    {
     "data": {
      "text/plain": [
       "0"
      ]
     },
     "execution_count": 404,
     "metadata": {},
     "output_type": "execute_result"
    }
   ],
   "source": [
    "5 ^ 5"
   ]
  },
  {
   "cell_type": "markdown",
   "id": "6111e87f-1c35-4441-bffd-608d41ea6502",
   "metadata": {},
   "source": [
    "#### LEFT Shift : here we gain bits"
   ]
  },
  {
   "cell_type": "code",
   "execution_count": 407,
   "id": "bddcab76-bdd4-4e11-a52a-c0255442f1ef",
   "metadata": {},
   "outputs": [
    {
     "data": {
      "text/plain": [
       "80"
      ]
     },
     "execution_count": 407,
     "metadata": {},
     "output_type": "execute_result"
    }
   ],
   "source": [
    "10<<3"
   ]
  },
  {
   "cell_type": "code",
   "execution_count": 409,
   "id": "d3e112c6-eb3e-4e0e-997b-659d5dd19467",
   "metadata": {},
   "outputs": [],
   "source": [
    "# 10 -> 1010\n",
    "# 10 <<2= 3 --> 1010000 --> Here 3 bits are gained"
   ]
  },
  {
   "cell_type": "code",
   "execution_count": 411,
   "id": "90ab3897-25db-480f-a3cc-4e6b77535220",
   "metadata": {},
   "outputs": [
    {
     "data": {
      "text/plain": [
       "40"
      ]
     },
     "execution_count": 411,
     "metadata": {},
     "output_type": "execute_result"
    }
   ],
   "source": [
    "10 << 2"
   ]
  },
  {
   "cell_type": "code",
   "execution_count": 413,
   "id": "3e57b00c-1f39-4cb1-9982-0f1f03352dc8",
   "metadata": {},
   "outputs": [],
   "source": [
    "# 10 -> 1010\n",
    "# 10 <<2 --> 101000 --> Here 2 bits are gained"
   ]
  },
  {
   "cell_type": "markdown",
   "id": "372dd6db-769e-4f01-be0d-b6e092280477",
   "metadata": {},
   "source": [
    "## Right Shift : here we loose the bit"
   ]
  },
  {
   "cell_type": "code",
   "execution_count": 416,
   "id": "66969217-5f07-4427-8a09-2ae3c37730ed",
   "metadata": {},
   "outputs": [
    {
     "data": {
      "text/plain": [
       "5"
      ]
     },
     "execution_count": 416,
     "metadata": {},
     "output_type": "execute_result"
    }
   ],
   "source": [
    "10>>1"
   ]
  },
  {
   "cell_type": "code",
   "execution_count": 418,
   "id": "0bde0397-aaa8-46a3-8e22-56693799617e",
   "metadata": {},
   "outputs": [],
   "source": [
    "# 10 -> 1010\n",
    "# 10>>1 -> 101 Here 1 bit is lost"
   ]
  },
  {
   "cell_type": "code",
   "execution_count": 420,
   "id": "4c7c8ee9-3f8d-448c-9613-376d54ebfdc5",
   "metadata": {},
   "outputs": [
    {
     "data": {
      "text/plain": [
       "0"
      ]
     },
     "execution_count": 420,
     "metadata": {},
     "output_type": "execute_result"
    }
   ],
   "source": [
    "10>>5"
   ]
  },
  {
   "cell_type": "markdown",
   "id": "3ae3e6fd-3118-45da-a5f6-b6d455098719",
   "metadata": {},
   "source": [
    "#### help() --> to get help in jupyer notebok"
   ]
  },
  {
   "cell_type": "markdown",
   "id": "a88e10db-1a3f-44d2-862f-e954b03c29c3",
   "metadata": {},
   "source": [
    "type q to exit"
   ]
  },
  {
   "cell_type": "code",
   "execution_count": null,
   "id": "ca8c4bdc-b55f-45d6-bbd5-00e908bdcdc0",
   "metadata": {},
   "outputs": [],
   "source": [
    "help()"
   ]
  },
  {
   "cell_type": "markdown",
   "id": "c033efbe-7de6-4b82-9b7e-fedc84f68ffa",
   "metadata": {},
   "source": [
    "Welcome to Python 3.11's help utility! If this is your first time using\n",
    "Python, you should definitely check out the tutorial at\n",
    "https://docs.python.org/3.11/tutorial/."
   ]
  },
  {
   "cell_type": "markdown",
   "id": "218bdafd-6a35-4614-87ac-bebf1f6983a0",
   "metadata": {},
   "source": [
    "Enter the name of any module, keyword, or topic to get help on writing\n",
    "Python programs and using Python modules. To get a list of available\n",
    "modules, keywords, symbols, or topics, enter \"modules\", \"keywords\",\n",
    "\"symbols\", or \"topics\"."
   ]
  },
  {
   "cell_type": "markdown",
   "id": "b7fad18f-6c12-40b9-9201-22414bd1848f",
   "metadata": {},
   "source": [
    "Each module also comes with a one-line summary of what it does; to list\n",
    "the modules whose name or summary contain a given string such as \"spam\",\n",
    "enter \"modules spam\"."
   ]
  },
  {
   "cell_type": "markdown",
   "id": "22d9818b-1894-4ddb-9182-04cfce831627",
   "metadata": {},
   "source": [
    "To quit this help utility and return to the interpreter,\n",
    "enter \"q\" or \"quit\"."
   ]
  },
  {
   "cell_type": "markdown",
   "id": "67122c07-2531-40f0-a822-a410865fd359",
   "metadata": {},
   "source": [
    "You are now leaving help and returning to the Python interpreter.\n",
    "If you want to ask for help on a particular object directly from the\n",
    "interpreter, you can type \"help(object)\". Executing \"help('string')\"\n",
    "has the same effect as typing a particular string at the help> prompt."
   ]
  },
  {
   "cell_type": "code",
   "execution_count": 432,
   "id": "e875f625-b484-4c73-97fc-2d21fcfbd41c",
   "metadata": {},
   "outputs": [
    {
     "ename": "NameError",
     "evalue": "name 'sqrt' is not defined",
     "output_type": "error",
     "traceback": [
      "\u001b[1;31m---------------------------------------------------------------------------\u001b[0m",
      "\u001b[1;31mNameError\u001b[0m                                 Traceback (most recent call last)",
      "Cell \u001b[1;32mIn[432], line 1\u001b[0m\n\u001b[1;32m----> 1\u001b[0m x \u001b[38;5;241m=\u001b[39m sqrt(\u001b[38;5;241m25\u001b[39m)\n",
      "\u001b[1;31mNameError\u001b[0m: name 'sqrt' is not defined"
     ]
    }
   ],
   "source": [
    "x = sqrt(25)"
   ]
  },
  {
   "cell_type": "code",
   "execution_count": 518,
   "id": "a222bd6a-90d4-41c3-89bf-2a34ad79d92c",
   "metadata": {},
   "outputs": [],
   "source": [
    "import math #as #m #math is module"
   ]
  },
  {
   "cell_type": "code",
   "execution_count": 520,
   "id": "8f7c475f-9379-4c23-a331-c0abcd1709ee",
   "metadata": {},
   "outputs": [
    {
     "data": {
      "text/plain": [
       "5.0"
      ]
     },
     "execution_count": 520,
     "metadata": {},
     "output_type": "execute_result"
    }
   ],
   "source": [
    "x = m.sqrt(25)\n",
    "x"
   ]
  },
  {
   "cell_type": "markdown",
   "id": "820c10db-7f32-4f23-b333-654e4539ac02",
   "metadata": {},
   "source": [
    "##### floor - minimum or least value"
   ]
  },
  {
   "cell_type": "code",
   "execution_count": 523,
   "id": "1892a3a9-6927-4af7-a772-e7a24f5d0393",
   "metadata": {},
   "outputs": [
    {
     "name": "stdout",
     "output_type": "stream",
     "text": [
      "25\n"
     ]
    }
   ],
   "source": [
    "print(m.floor(25.628292))"
   ]
  },
  {
   "cell_type": "markdown",
   "id": "3616f3d5-54d6-42e8-a184-576735f2d30a",
   "metadata": {},
   "source": [
    "##### ceil - maximum or highest value"
   ]
  },
  {
   "cell_type": "code",
   "execution_count": 526,
   "id": "5d96b66c-34be-4dec-9648-11e5b1b5ac4d",
   "metadata": {},
   "outputs": [
    {
     "name": "stdout",
     "output_type": "stream",
     "text": [
      "26\n"
     ]
    }
   ],
   "source": [
    "print(m.ceil(25.6259))"
   ]
  },
  {
   "cell_type": "code",
   "execution_count": 528,
   "id": "1a588618-3f58-45a8-b43a-cc12facc0979",
   "metadata": {},
   "outputs": [
    {
     "name": "stdout",
     "output_type": "stream",
     "text": [
      "9.0\n"
     ]
    }
   ],
   "source": [
    "print(m.pow(3,2)) #power, 3^2"
   ]
  },
  {
   "cell_type": "code",
   "execution_count": 530,
   "id": "78ce9198-1734-4f1f-9d8f-a6a8506a05bd",
   "metadata": {},
   "outputs": [
    {
     "name": "stdout",
     "output_type": "stream",
     "text": [
      "3.141592653589793\n"
     ]
    }
   ],
   "source": [
    "print(m.pi)"
   ]
  },
  {
   "cell_type": "code",
   "execution_count": 514,
   "id": "6b25bee5-6d9e-405b-a920-c5a9bf7d8abc",
   "metadata": {},
   "outputs": [
    {
     "name": "stdout",
     "output_type": "stream",
     "text": [
      "2.718281828459045\n"
     ]
    }
   ],
   "source": [
    "print(math.e) #e is epsilon value"
   ]
  },
  {
   "cell_type": "code",
   "execution_count": 532,
   "id": "a9e92f1d-da6e-4f22-8e73-5b7663dafb05",
   "metadata": {},
   "outputs": [],
   "source": [
    "from math import pow,sqrt # if you only want ot import pow, sqrt function"
   ]
  },
  {
   "cell_type": "code",
   "execution_count": 536,
   "id": "5fc50b04-14dd-48b3-9f44-60fd1b4af318",
   "metadata": {},
   "outputs": [
    {
     "name": "stdout",
     "output_type": "stream",
     "text": [
      "8.0\n",
      "100.0\n"
     ]
    }
   ],
   "source": [
    "print(m.sqrt(64))\n",
    "print(m.pow(10,2))"
   ]
  },
  {
   "cell_type": "code",
   "execution_count": 538,
   "id": "d612d8b6-3f30-4b5b-9f76-34a85414fd26",
   "metadata": {},
   "outputs": [],
   "source": [
    "from math import * #all function from math"
   ]
  }
 ],
 "metadata": {
  "kernelspec": {
   "display_name": "Python 3 (ipykernel)",
   "language": "python",
   "name": "python3"
  },
  "language_info": {
   "codemirror_mode": {
    "name": "ipython",
    "version": 3
   },
   "file_extension": ".py",
   "mimetype": "text/x-python",
   "name": "python",
   "nbconvert_exporter": "python",
   "pygments_lexer": "ipython3",
   "version": "3.12.4"
  }
 },
 "nbformat": 4,
 "nbformat_minor": 5
}
