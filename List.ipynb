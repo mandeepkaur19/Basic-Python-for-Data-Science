{
 "cells": [
  {
   "cell_type": "markdown",
   "id": "c371d1e0-a678-4e9f-a55f-a956a60857a4",
   "metadata": {},
   "source": [
    "#### List"
   ]
  },
  {
   "cell_type": "code",
   "execution_count": 7,
   "id": "85cd5326-f7a8-49ba-b5ed-0a9ffe345413",
   "metadata": {},
   "outputs": [],
   "source": [
    "list1 = [] #Empty"
   ]
  },
  {
   "cell_type": "code",
   "execution_count": 9,
   "id": "a998ac4a-d586-4c9b-9e34-ffff799d1a7d",
   "metadata": {},
   "outputs": [
    {
     "name": "stdout",
     "output_type": "stream",
     "text": [
      "<class 'list'>\n"
     ]
    }
   ],
   "source": [
    "print(type(list1))"
   ]
  },
  {
   "cell_type": "code",
   "execution_count": 11,
   "id": "729a4a8c-10f7-4e92-9414-daec07ca4fd1",
   "metadata": {},
   "outputs": [],
   "source": [
    "list2 = [10,30,60] #list of interger number"
   ]
  },
  {
   "cell_type": "code",
   "execution_count": 16,
   "id": "119cf615-b7ba-4730-a26a-5326f391d86e",
   "metadata": {},
   "outputs": [
    {
     "data": {
      "text/plain": [
       "[10.77, 30.66, 60.89]"
      ]
     },
     "execution_count": 16,
     "metadata": {},
     "output_type": "execute_result"
    }
   ],
   "source": [
    "list3 = [10.77,30.66,60.89] #list of float number\n",
    "list3"
   ]
  },
  {
   "cell_type": "code",
   "execution_count": 18,
   "id": "dd12c0a5-1899-4265-90a0-212d649b6f0c",
   "metadata": {},
   "outputs": [],
   "source": [
    "list4 = ['one','two','three'] #List of string"
   ]
  },
  {
   "cell_type": "code",
   "execution_count": 22,
   "id": "cfd7ada1-51a3-4b1a-b4a1-62d4f68e7873",
   "metadata": {},
   "outputs": [
    {
     "data": {
      "text/plain": [
       "['Mandeep', 25, [50, 100], [150, 90]]"
      ]
     },
     "execution_count": 22,
     "metadata": {},
     "output_type": "execute_result"
    }
   ],
   "source": [
    "list5 = ['Mandeep', 25, [50,100],[150, 90]] #Nested Lists\n",
    "list5"
   ]
  },
  {
   "cell_type": "code",
   "execution_count": 26,
   "id": "bb63095f-e1c2-493c-a7f2-a397ab6e80fb",
   "metadata": {},
   "outputs": [
    {
     "data": {
      "text/plain": [
       "[100, 'Mandeep', 17.568]"
      ]
     },
     "execution_count": 26,
     "metadata": {},
     "output_type": "execute_result"
    }
   ],
   "source": [
    "list6 = [100, 'Mandeep', 17.568] #List of mixed data types\n",
    "list6"
   ]
  },
  {
   "cell_type": "code",
   "execution_count": 28,
   "id": "8d8439a3-4e7f-4cc1-8909-1b70bf53c945",
   "metadata": {},
   "outputs": [
    {
     "data": {
      "text/plain": [
       "['Mandeep', 25, [50, 100], [150, 90], {'David', 'John'}]"
      ]
     },
     "execution_count": 28,
     "metadata": {},
     "output_type": "execute_result"
    }
   ],
   "source": [
    "list7 = ['Mandeep', 25, [50, 100],[150,90],{'John', 'David'}]\n",
    "list7"
   ]
  },
  {
   "cell_type": "code",
   "execution_count": 30,
   "id": "1e099ae0-49bd-42e7-b425-018952220976",
   "metadata": {},
   "outputs": [
    {
     "data": {
      "text/plain": [
       "3"
      ]
     },
     "execution_count": 30,
     "metadata": {},
     "output_type": "execute_result"
    }
   ],
   "source": [
    "len(list6) #Length of list"
   ]
  },
  {
   "cell_type": "markdown",
   "id": "99d1e789-1741-44ce-98ec-5c573a24e318",
   "metadata": {},
   "source": [
    "#### List Indexing"
   ]
  },
  {
   "cell_type": "code",
   "execution_count": 33,
   "id": "56f28a01-f355-424d-a275-ec86dc6fdec5",
   "metadata": {},
   "outputs": [
    {
     "data": {
      "text/plain": [
       "10"
      ]
     },
     "execution_count": 33,
     "metadata": {},
     "output_type": "execute_result"
    }
   ],
   "source": [
    "list2[0] #Retreive First element of the list"
   ]
  },
  {
   "cell_type": "code",
   "execution_count": 35,
   "id": "27c485cb-0fd2-456c-ac16-c3bf197d18c5",
   "metadata": {},
   "outputs": [
    {
     "data": {
      "text/plain": [
       "'one'"
      ]
     },
     "execution_count": 35,
     "metadata": {},
     "output_type": "execute_result"
    }
   ],
   "source": [
    "list4[0] # Retreive first element of the list"
   ]
  },
  {
   "cell_type": "code",
   "execution_count": 37,
   "id": "b770ec26-b6c6-4df2-8b34-fe1c89f39ba2",
   "metadata": {},
   "outputs": [
    {
     "data": {
      "text/plain": [
       "'o'"
      ]
     },
     "execution_count": 37,
     "metadata": {},
     "output_type": "execute_result"
    }
   ],
   "source": [
    "list4[0][0] # Nested indexing - Access the first character of the first list ele"
   ]
  },
  {
   "cell_type": "code",
   "execution_count": 39,
   "id": "c5cee378-7e3d-4dfc-8f17-b6c0efb7c6a6",
   "metadata": {},
   "outputs": [
    {
     "data": {
      "text/plain": [
       "'three'"
      ]
     },
     "execution_count": 39,
     "metadata": {},
     "output_type": "execute_result"
    }
   ],
   "source": [
    "list4[-1] #Last item of the list"
   ]
  },
  {
   "cell_type": "code",
   "execution_count": 41,
   "id": "cd632777-99e0-45e6-a612-fb33109f8710",
   "metadata": {},
   "outputs": [
    {
     "data": {
      "text/plain": [
       "[150, 90]"
      ]
     },
     "execution_count": 41,
     "metadata": {},
     "output_type": "execute_result"
    }
   ],
   "source": [
    "list5[-1] #Last item of the list"
   ]
  },
  {
   "cell_type": "markdown",
   "id": "8d649a15-d03a-423e-be41-af2c68af9791",
   "metadata": {},
   "source": [
    "#### List Slicing"
   ]
  },
  {
   "cell_type": "code",
   "execution_count": 4,
   "id": "fe2cc766-466b-4e3a-b35f-4dc40d8941f3",
   "metadata": {},
   "outputs": [],
   "source": [
    "mylist = ['one', 'two', 'three', 'four', 'five', 'six', 'seven', 'eight']"
   ]
  },
  {
   "cell_type": "code",
   "execution_count": 6,
   "id": "19af4566-b06b-488a-b018-d31ddad23eee",
   "metadata": {},
   "outputs": [
    {
     "data": {
      "text/plain": [
       "['one', 'two', 'three']"
      ]
     },
     "execution_count": 6,
     "metadata": {},
     "output_type": "execute_result"
    }
   ],
   "source": [
    "mylist[0:3] #Return all items from 0th to 3rd index location excluding the item"
   ]
  },
  {
   "cell_type": "code",
   "execution_count": 8,
   "id": "760ae8ee-8eb4-40d8-9b96-f816926cfb53",
   "metadata": {},
   "outputs": [
    {
     "data": {
      "text/plain": [
       "['three', 'four', 'five']"
      ]
     },
     "execution_count": 8,
     "metadata": {},
     "output_type": "execute_result"
    }
   ],
   "source": [
    "mylist[2:5] # List all items from 2nd to 5th index location excluding the item a"
   ]
  },
  {
   "cell_type": "code",
   "execution_count": 10,
   "id": "27e9a046-e4d3-4ff4-a5a5-7cd7ab0a1e2d",
   "metadata": {},
   "outputs": [
    {
     "data": {
      "text/plain": [
       "['one', 'two', 'three']"
      ]
     },
     "execution_count": 10,
     "metadata": {},
     "output_type": "execute_result"
    }
   ],
   "source": [
    "mylist[:3] # Return first three items"
   ]
  },
  {
   "cell_type": "code",
   "execution_count": 12,
   "id": "2491504f-fe1a-400f-9868-233a5253aa17",
   "metadata": {},
   "outputs": [
    {
     "data": {
      "text/plain": [
       "['one', 'two']"
      ]
     },
     "execution_count": 12,
     "metadata": {},
     "output_type": "execute_result"
    }
   ],
   "source": [
    "mylist[:2] # Return first two items"
   ]
  },
  {
   "cell_type": "code",
   "execution_count": 14,
   "id": "f65ecfd5-9fde-45c7-84ac-2e64d4a8bad7",
   "metadata": {},
   "outputs": [
    {
     "data": {
      "text/plain": [
       "['six', 'seven', 'eight']"
      ]
     },
     "execution_count": 14,
     "metadata": {},
     "output_type": "execute_result"
    }
   ],
   "source": [
    "mylist[-3:] #Return last two items"
   ]
  },
  {
   "cell_type": "code",
   "execution_count": 16,
   "id": "aff20d6a-5fa1-4e82-921e-3ca3ee3cf82f",
   "metadata": {},
   "outputs": [
    {
     "data": {
      "text/plain": [
       "['seven', 'eight']"
      ]
     },
     "execution_count": 16,
     "metadata": {},
     "output_type": "execute_result"
    }
   ],
   "source": [
    "mylist[-2:] #Return last two items"
   ]
  },
  {
   "cell_type": "code",
   "execution_count": 18,
   "id": "7518317d-676e-40f3-9494-90ef0aec6046",
   "metadata": {},
   "outputs": [
    {
     "data": {
      "text/plain": [
       "'eight'"
      ]
     },
     "execution_count": 18,
     "metadata": {},
     "output_type": "execute_result"
    }
   ],
   "source": [
    "mylist[-1] #Return last item of the list"
   ]
  },
  {
   "cell_type": "code",
   "execution_count": 20,
   "id": "735e2ad7-9ec1-480a-93c6-232c15ba89e7",
   "metadata": {},
   "outputs": [
    {
     "data": {
      "text/plain": [
       "['one', 'two', 'three', 'four', 'five', 'six', 'seven', 'eight']"
      ]
     },
     "execution_count": 20,
     "metadata": {},
     "output_type": "execute_result"
    }
   ],
   "source": [
    "mylist[:] #Return whole list"
   ]
  },
  {
   "cell_type": "markdown",
   "id": "abbbe520-a48d-44f6-adb3-0bb2b266ecc0",
   "metadata": {},
   "source": [
    "#### Add , Remove & Change Items"
   ]
  },
  {
   "cell_type": "code",
   "execution_count": 58,
   "id": "25598ff6-c31d-43c9-a720-445f10895986",
   "metadata": {},
   "outputs": [
    {
     "data": {
      "text/plain": [
       "['one', 'two', 'three', 'four', 'five', 'six', 'seven', 'eight']"
      ]
     },
     "execution_count": 58,
     "metadata": {},
     "output_type": "execute_result"
    }
   ],
   "source": [
    "mylist = ['one','two','three','four','five','six','seven','eight']\n",
    "mylist"
   ]
  },
  {
   "cell_type": "markdown",
   "id": "8a047a8f-c5a6-4725-a4e0-7ea01c54d51e",
   "metadata": {},
   "source": [
    "##### 1. Append"
   ]
  },
  {
   "cell_type": "markdown",
   "id": "0f57b176-646c-4f83-ac24-5a7dc1a99802",
   "metadata": {},
   "source": [
    "Add an item at the end of the list"
   ]
  },
  {
   "cell_type": "code",
   "execution_count": 60,
   "id": "495d2f4e-0ae4-4396-a995-86c66c77b473",
   "metadata": {},
   "outputs": [
    {
     "data": {
      "text/plain": [
       "['one', 'two', 'three', 'four', 'five', 'six', 'seven', 'eight', 'nine']"
      ]
     },
     "execution_count": 60,
     "metadata": {},
     "output_type": "execute_result"
    }
   ],
   "source": [
    "mylist.append('nine')\n",
    "mylist              "
   ]
  },
  {
   "cell_type": "markdown",
   "id": "b567daf6-0f09-44b9-9708-ea99723e3040",
   "metadata": {},
   "source": [
    "##### 2. Insert"
   ]
  },
  {
   "cell_type": "markdown",
   "id": "ff37f9ba-af01-4346-abbb-94e3a2d8b08e",
   "metadata": {},
   "source": [
    "Add item at the particular give location in the list"
   ]
  },
  {
   "cell_type": "code",
   "execution_count": 62,
   "id": "9fe029d1-12d8-43a5-8d47-ba49fa8ba8f8",
   "metadata": {},
   "outputs": [
    {
     "data": {
      "text/plain": [
       "['one', 'two', 'three', 'four', 'five', 'six', 'seven', 'eight', 'nine', 'ten']"
      ]
     },
     "execution_count": 62,
     "metadata": {},
     "output_type": "execute_result"
    }
   ],
   "source": [
    "mylist.insert(9,'ten')\n",
    "mylist"
   ]
  },
  {
   "cell_type": "code",
   "execution_count": 64,
   "id": "ebbe8437-7b20-41a8-8e22-08784faa1604",
   "metadata": {},
   "outputs": [
    {
     "data": {
      "text/plain": [
       "['NUMBER',\n",
       " 'one',\n",
       " 'two',\n",
       " 'three',\n",
       " 'four',\n",
       " 'five',\n",
       " 'six',\n",
       " 'seven',\n",
       " 'eight',\n",
       " 'nine',\n",
       " 'ten']"
      ]
     },
     "execution_count": 64,
     "metadata": {},
     "output_type": "execute_result"
    }
   ],
   "source": [
    "mylist.insert(0,'NUMBER')\n",
    "mylist"
   ]
  },
  {
   "cell_type": "markdown",
   "id": "b63c6b97-c683-4ce3-9daa-1b24e459d8ab",
   "metadata": {},
   "source": [
    "##### 3. Remove"
   ]
  },
  {
   "cell_type": "code",
   "execution_count": 67,
   "id": "72aab7e9-a21e-4964-b0a4-0f723574a627",
   "metadata": {},
   "outputs": [
    {
     "data": {
      "text/plain": [
       "['one', 'two', 'three', 'four', 'five', 'six', 'seven', 'eight', 'nine', 'ten']"
      ]
     },
     "execution_count": 67,
     "metadata": {},
     "output_type": "execute_result"
    }
   ],
   "source": [
    "mylist.remove('NUMBER')\n",
    "mylist"
   ]
  },
  {
   "cell_type": "markdown",
   "id": "eb628a25-85ae-44cc-bbe9-991d742e58b8",
   "metadata": {},
   "source": [
    "##### 4.POP"
   ]
  },
  {
   "cell_type": "markdown",
   "id": "d0134346-5d6a-43a7-81dc-8865e8d5e552",
   "metadata": {},
   "source": [
    "Remove lat item of the list"
   ]
  },
  {
   "cell_type": "code",
   "execution_count": 71,
   "id": "79c22b2e-9215-4a5f-9fae-7bf63c49b9ac",
   "metadata": {},
   "outputs": [
    {
     "data": {
      "text/plain": [
       "['one', 'two', 'three', 'four', 'five', 'six', 'seven', 'eight', 'nine']"
      ]
     },
     "execution_count": 71,
     "metadata": {},
     "output_type": "execute_result"
    }
   ],
   "source": [
    "mylist.pop()\n",
    "mylist"
   ]
  },
  {
   "cell_type": "code",
   "execution_count": 73,
   "id": "97468cee-d9d7-4318-8f7b-b005e63cf59c",
   "metadata": {},
   "outputs": [
    {
     "data": {
      "text/plain": [
       "['two', 'three', 'four', 'five', 'six', 'seven', 'eight', 'nine']"
      ]
     },
     "execution_count": 73,
     "metadata": {},
     "output_type": "execute_result"
    }
   ],
   "source": [
    "mylist.pop(0) #Remove first element of the list\n",
    "mylist"
   ]
  },
  {
   "cell_type": "markdown",
   "id": "2fe9df17-7702-4ff8-9545-2f74fa5da0f2",
   "metadata": {},
   "source": [
    "##### 5. Delete"
   ]
  },
  {
   "cell_type": "code",
   "execution_count": 76,
   "id": "ae231297-14a2-4df7-9c63-fa65679a4cff",
   "metadata": {},
   "outputs": [
    {
     "data": {
      "text/plain": [
       "['two', 'three', 'four', 'five', 'six', 'seven', 'eight']"
      ]
     },
     "execution_count": 76,
     "metadata": {},
     "output_type": "execute_result"
    }
   ],
   "source": [
    "del mylist[7]\n",
    "mylist"
   ]
  },
  {
   "cell_type": "markdown",
   "id": "c6eb6cae-b873-4ce5-b5f1-51e3303f868b",
   "metadata": {},
   "source": [
    "##### 6.Change Values"
   ]
  },
  {
   "cell_type": "code",
   "execution_count": 79,
   "id": "be0154ee-8f61-49c4-8c65-7747ee871ddc",
   "metadata": {},
   "outputs": [
    {
     "data": {
      "text/plain": [
       "[1, 2, 3, 'five', 'six', 'seven', 'eight']"
      ]
     },
     "execution_count": 79,
     "metadata": {},
     "output_type": "execute_result"
    }
   ],
   "source": [
    "mylist[0]= 1\n",
    "mylist[1]= 2\n",
    "mylist[2]= 3\n",
    "mylist"
   ]
  },
  {
   "cell_type": "markdown",
   "id": "5e636dce-db76-4d96-b513-79c017c58c98",
   "metadata": {},
   "source": [
    "##### 7. clear"
   ]
  },
  {
   "cell_type": "markdown",
   "id": "1ad5b722-1295-49c7-acb5-905f89cd8f45",
   "metadata": {},
   "source": [
    "deletes all items in the list/Empty list"
   ]
  },
  {
   "cell_type": "code",
   "execution_count": 83,
   "id": "82ba5690-d57a-4600-b75f-2b0276a25c05",
   "metadata": {},
   "outputs": [
    {
     "data": {
      "text/plain": [
       "[]"
      ]
     },
     "execution_count": 83,
     "metadata": {},
     "output_type": "execute_result"
    }
   ],
   "source": [
    "mylist.clear()\n",
    "mylist"
   ]
  },
  {
   "cell_type": "markdown",
   "id": "47b028c5-474c-4bc8-b17a-62b47d0a71da",
   "metadata": {},
   "source": [
    "##### 8. Delete list"
   ]
  },
  {
   "cell_type": "code",
   "execution_count": 86,
   "id": "51116e5d-b4c7-466d-bee9-7122132cf9cd",
   "metadata": {},
   "outputs": [
    {
     "ename": "NameError",
     "evalue": "name 'mylist' is not defined",
     "output_type": "error",
     "traceback": [
      "\u001b[1;31m---------------------------------------------------------------------------\u001b[0m",
      "\u001b[1;31mNameError\u001b[0m                                 Traceback (most recent call last)",
      "Cell \u001b[1;32mIn[86], line 2\u001b[0m\n\u001b[0;32m      1\u001b[0m \u001b[38;5;28;01mdel\u001b[39;00m mylist\n\u001b[1;32m----> 2\u001b[0m mylist\n",
      "\u001b[1;31mNameError\u001b[0m: name 'mylist' is not defined"
     ]
    }
   ],
   "source": [
    "del mylist\n",
    "mylist"
   ]
  },
  {
   "cell_type": "markdown",
   "id": "dbb62720-c1c9-4379-8c04-da94de6a4947",
   "metadata": {},
   "source": [
    "##### 9. Copy List"
   ]
  },
  {
   "cell_type": "code",
   "execution_count": 89,
   "id": "0fa176cb-e080-4d1c-b9f2-19e2805cf097",
   "metadata": {},
   "outputs": [
    {
     "data": {
      "text/plain": [
       "['one', 'two', 'three', 'four', 'five', 'six', 'seven', 'eight', 'nine']"
      ]
     },
     "execution_count": 89,
     "metadata": {},
     "output_type": "execute_result"
    }
   ],
   "source": [
    "mylist = ['one', 'two', 'three', 'four', 'five', 'six', 'seven', 'eight', 'nine']\n",
    "mylist"
   ]
  },
  {
   "cell_type": "code",
   "execution_count": 91,
   "id": "98ec4b27-f695-4567-b8c4-cba8e0866850",
   "metadata": {},
   "outputs": [],
   "source": [
    "ourlist = mylist #New reference list \"Yourlist\""
   ]
  },
  {
   "cell_type": "markdown",
   "id": "89f87d8f-2c0e-4cae-b919-9b337dc33b84",
   "metadata": {},
   "source": [
    "##### New reference must be always before '='"
   ]
  },
  {
   "cell_type": "code",
   "execution_count": 94,
   "id": "5c2c0000-c1a0-4f38-8dcb-7125b1cf8f7e",
   "metadata": {},
   "outputs": [
    {
     "data": {
      "text/plain": [
       "(2158470072960, 2158470072960)"
      ]
     },
     "execution_count": 94,
     "metadata": {},
     "output_type": "execute_result"
    }
   ],
   "source": [
    "id(ourlist),id(mylist) #here both id/address will be same"
   ]
  },
  {
   "cell_type": "markdown",
   "id": "090ba313-4d64-4773-a57d-3073087c02be",
   "metadata": {},
   "source": [
    "##### But when you use copy function both will get different addresses"
   ]
  },
  {
   "cell_type": "code",
   "execution_count": 97,
   "id": "aaed6b40-316d-460f-a819-3beeacf8808d",
   "metadata": {},
   "outputs": [],
   "source": [
    "ourlist = mylist.copy()"
   ]
  },
  {
   "cell_type": "code",
   "execution_count": 99,
   "id": "fc36bb94-ab9c-4ef8-b008-f15237950a30",
   "metadata": {},
   "outputs": [
    {
     "data": {
      "text/plain": [
       "(2158470234368, 2158470072960)"
      ]
     },
     "execution_count": 99,
     "metadata": {},
     "output_type": "execute_result"
    }
   ],
   "source": [
    "id(ourlist), id(mylist)"
   ]
  },
  {
   "cell_type": "code",
   "execution_count": 102,
   "id": "906f795b-01ac-4877-a7ab-b566536136d7",
   "metadata": {},
   "outputs": [
    {
     "data": {
      "text/plain": [
       "['Mandeep', 'two', 'three', 'four', 'five', 'six', 'seven', 'eight', 'nine']"
      ]
     },
     "execution_count": 102,
     "metadata": {},
     "output_type": "execute_result"
    }
   ],
   "source": [
    "mylist[0]=\"Mandeep\"\n",
    "mylist"
   ]
  },
  {
   "cell_type": "code",
   "execution_count": 104,
   "id": "31bd51f6-fe57-44e0-9590-a4052e98c9d1",
   "metadata": {},
   "outputs": [
    {
     "data": {
      "text/plain": [
       "['one', 'two', 'three', 'four', 'five', 'six', 'seven', 'eight', 'nine']"
      ]
     },
     "execution_count": 104,
     "metadata": {},
     "output_type": "execute_result"
    }
   ],
   "source": [
    "ourlist"
   ]
  },
  {
   "cell_type": "markdown",
   "id": "f7242543-f5d2-4489-b0c9-9de95b6feb79",
   "metadata": {},
   "source": [
    "##### Here, as yourlist is a copy it will not affect any changes made in mylist"
   ]
  },
  {
   "cell_type": "markdown",
   "id": "16d224fa-6451-41b7-ba6a-05725ec056b7",
   "metadata": {},
   "source": [
    "#### 10. Join List"
   ]
  },
  {
   "cell_type": "code",
   "execution_count": 108,
   "id": "c6a56a23-1fb3-4bdb-935e-738e53ee2026",
   "metadata": {},
   "outputs": [],
   "source": [
    "list1 = ['one', 'two', 'three', 'four']\n",
    "list2 = ['five', 'six', 'seven', 'eight']"
   ]
  },
  {
   "cell_type": "markdown",
   "id": "6640cfe0-26d6-4dab-b6a5-0979d066ce5e",
   "metadata": {},
   "source": [
    "##### Below third list in made by merging two individual lists"
   ]
  },
  {
   "cell_type": "code",
   "execution_count": 115,
   "id": "15af6d4f-be14-483d-a1f4-431857a3762a",
   "metadata": {},
   "outputs": [
    {
     "data": {
      "text/plain": [
       "['one', 'two', 'three', 'four', 'five', 'six', 'seven', 'eight']"
      ]
     },
     "execution_count": 115,
     "metadata": {},
     "output_type": "execute_result"
    }
   ],
   "source": [
    "list3 = list1 + list2 #Join two lists by '+' operator\n",
    "list3"
   ]
  },
  {
   "cell_type": "markdown",
   "id": "2c22b0d6-8140-49a9-b5e6-0ec50efbfdae",
   "metadata": {},
   "source": [
    "##### 10. 1 extend()"
   ]
  },
  {
   "cell_type": "markdown",
   "id": "4d6f2c5b-f51b-491c-9945-6eed39378d3d",
   "metadata": {},
   "source": [
    "Below, second list is merged into first make them one"
   ]
  },
  {
   "cell_type": "code",
   "execution_count": 121,
   "id": "9a312add-ef19-4758-874f-bde05dfabecd",
   "metadata": {},
   "outputs": [
    {
     "data": {
      "text/plain": [
       "['one', 'two', 'three', 'four', 'five', 'six', 'seven', 'eight']"
      ]
     },
     "execution_count": 121,
     "metadata": {},
     "output_type": "execute_result"
    }
   ],
   "source": [
    "list1.extend(list2) #Append list2 with list1\n",
    "list1"
   ]
  },
  {
   "cell_type": "markdown",
   "id": "e8eeeff7-534a-4e93-a89e-828bc880464f",
   "metadata": {},
   "source": [
    "#### 11. List Membership"
   ]
  },
  {
   "cell_type": "markdown",
   "id": "4e4fb3a6-20f7-4b26-bb09-11652a0a70aa",
   "metadata": {},
   "source": [
    "##### If item is persent in list –> True ; else –> False"
   ]
  },
  {
   "cell_type": "code",
   "execution_count": 125,
   "id": "64c81a80-7402-49d1-a9c7-2307ccee1bfb",
   "metadata": {},
   "outputs": [
    {
     "data": {
      "text/plain": [
       "['Mandeep', 'two', 'three', 'four', 'five', 'six', 'seven', 'eight', 'nine']"
      ]
     },
     "execution_count": 125,
     "metadata": {},
     "output_type": "execute_result"
    }
   ],
   "source": [
    "mylist"
   ]
  },
  {
   "cell_type": "code",
   "execution_count": 127,
   "id": "dc93b8e6-b9a4-47c1-8159-fdd91ab27461",
   "metadata": {},
   "outputs": [
    {
     "data": {
      "text/plain": [
       "True"
      ]
     },
     "execution_count": 127,
     "metadata": {},
     "output_type": "execute_result"
    }
   ],
   "source": [
    "'Mandeep' in mylist"
   ]
  },
  {
   "cell_type": "code",
   "execution_count": 129,
   "id": "b793b5a8-9d36-4851-af65-7f4a4d611d1a",
   "metadata": {},
   "outputs": [
    {
     "data": {
      "text/plain": [
       "False"
      ]
     },
     "execution_count": 129,
     "metadata": {},
     "output_type": "execute_result"
    }
   ],
   "source": [
    "'one' in mylist"
   ]
  },
  {
   "cell_type": "code",
   "execution_count": 134,
   "id": "b2ca4a87-295f-4b4e-af4e-d7742aceeb5a",
   "metadata": {},
   "outputs": [
    {
     "name": "stdout",
     "output_type": "stream",
     "text": [
      "five is present in the list\n"
     ]
    }
   ],
   "source": [
    "if 'five' in list1:  # Check if 'five' exist in the list\n",
    "    print('five is present in the list')\n",
    "else:\n",
    "    print('five is not present in the list')"
   ]
  },
  {
   "cell_type": "markdown",
   "id": "63055ee5-e543-4180-b2eb-303988678353",
   "metadata": {},
   "source": [
    "#### 12. Reverse & Sort List"
   ]
  },
  {
   "cell_type": "code",
   "execution_count": 140,
   "id": "186232f0-326c-410a-950c-001720d6d6ef",
   "metadata": {},
   "outputs": [
    {
     "data": {
      "text/plain": [
       "[55, 2, 9, 595, 599, 52, 29, 5, 6, 95]"
      ]
     },
     "execution_count": 140,
     "metadata": {},
     "output_type": "execute_result"
    }
   ],
   "source": [
    "list99 = [55,2,9,595,599,52,29,5,6,95]\n",
    "list99"
   ]
  },
  {
   "cell_type": "code",
   "execution_count": 142,
   "id": "e2f0a769-d274-45a2-8607-ec203493df0f",
   "metadata": {},
   "outputs": [
    {
     "data": {
      "text/plain": [
       "[95, 6, 5, 29, 52, 599, 595, 9, 2, 55]"
      ]
     },
     "execution_count": 142,
     "metadata": {},
     "output_type": "execute_result"
    }
   ],
   "source": [
    "list99.reverse() #List gets reverse\n",
    "list99"
   ]
  },
  {
   "cell_type": "markdown",
   "id": "bf803c8d-368f-46ca-8609-8b92868be4f9",
   "metadata": {},
   "source": [
    "##### 8.0.1 list = list[::-1] –> reverses the list"
   ]
  },
  {
   "cell_type": "code",
   "execution_count": 145,
   "id": "9e7ce915-5a23-4074-b4c5-b3b578a441f1",
   "metadata": {},
   "outputs": [
    {
     "data": {
      "text/plain": [
       "[55, 2, 9, 595, 599, 52, 29, 5, 6, 95]"
      ]
     },
     "execution_count": 145,
     "metadata": {},
     "output_type": "execute_result"
    }
   ],
   "source": [
    "list99 = list99[::-1]\n",
    "list99"
   ]
  },
  {
   "cell_type": "code",
   "execution_count": 147,
   "id": "b4901ed3-95e8-4b65-a430-6cfb89f5b2e7",
   "metadata": {},
   "outputs": [
    {
     "data": {
      "text/plain": [
       "[2, 5, 6, 9, 29, 52, 55, 95, 595, 599]"
      ]
     },
     "execution_count": 147,
     "metadata": {},
     "output_type": "execute_result"
    }
   ],
   "source": [
    "list99.sort()  #sort list in ascending order\n",
    "list99"
   ]
  },
  {
   "cell_type": "code",
   "execution_count": 149,
   "id": "be6ac54d-3074-4338-8b04-b8504eb358a8",
   "metadata": {},
   "outputs": [
    {
     "data": {
      "text/plain": [
       "[599, 595, 95, 55, 52, 29, 9, 6, 5, 2]"
      ]
     },
     "execution_count": 149,
     "metadata": {},
     "output_type": "execute_result"
    }
   ],
   "source": [
    "list99.sort(reverse=True) #Here it sorts in descesnding order\n",
    "list99                    # First sorts in ascending and internally reverses it"
   ]
  },
  {
   "cell_type": "markdown",
   "id": "db93854f-33b3-4f9b-ba31-34e2d63d112e",
   "metadata": {},
   "source": [
    "#### 13. Loop"
   ]
  },
  {
   "cell_type": "code",
   "execution_count": 153,
   "id": "458dc183-88a7-4171-86e3-62ff24888c4d",
   "metadata": {},
   "outputs": [
    {
     "data": {
      "text/plain": [
       "['one', 'two', 'three', 'four', 'five', 'six', 'seven', 'eight']"
      ]
     },
     "execution_count": 153,
     "metadata": {},
     "output_type": "execute_result"
    }
   ],
   "source": [
    "m1 = ['one', 'two', 'three', 'four', 'five', 'six', 'seven', 'eight']\n",
    "m1"
   ]
  },
  {
   "cell_type": "code",
   "execution_count": 155,
   "id": "b52cca2b-b7f5-4537-a46a-747b89a89de7",
   "metadata": {},
   "outputs": [
    {
     "name": "stdout",
     "output_type": "stream",
     "text": [
      "one\n",
      "two\n",
      "three\n",
      "four\n",
      "five\n",
      "six\n",
      "seven\n",
      "eight\n"
     ]
    }
   ],
   "source": [
    "for i in m1:\n",
    "    print (i)"
   ]
  },
  {
   "cell_type": "code",
   "execution_count": 174,
   "id": "b2fbd665-0c36-4e07-b0f6-9b9c4afe716d",
   "metadata": {},
   "outputs": [
    {
     "name": "stdout",
     "output_type": "stream",
     "text": [
      "(0, 'one')\n",
      "(1, 'two')\n",
      "(2, 'three')\n",
      "(3, 'four')\n",
      "(4, 'five')\n",
      "(5, 'six')\n",
      "(6, 'seven')\n",
      "(7, 'eight')\n"
     ]
    }
   ],
   "source": [
    "for i in enumerate(m1):\n",
    "    print(i)"
   ]
  },
  {
   "cell_type": "markdown",
   "id": "96209ce4-9585-4277-b9e1-285bb0f00a31",
   "metadata": {},
   "source": [
    "##### enumerate automatically provide an index for each item"
   ]
  },
  {
   "cell_type": "markdown",
   "id": "c3f8bc89-cef9-4192-900f-4d7836137b0c",
   "metadata": {},
   "source": [
    "#### 14. COUNT"
   ]
  },
  {
   "cell_type": "markdown",
   "id": "376ff91f-707f-462d-93ea-b9fe160bec70",
   "metadata": {},
   "source": [
    "###### Tells number of times an item occured in the list"
   ]
  },
  {
   "cell_type": "code",
   "execution_count": 188,
   "id": "99804069-c61b-44f8-8847-5a436f2581ea",
   "metadata": {},
   "outputs": [
    {
     "data": {
      "text/plain": [
       "[1, 2, 3, 4, 5, 5, 5, 6, 6, 7, 8, 1]"
      ]
     },
     "execution_count": 188,
     "metadata": {},
     "output_type": "execute_result"
    }
   ],
   "source": [
    "list10 = [1,2,3,4,5,5,5,6,6,7,8,1]\n",
    "list10"
   ]
  },
  {
   "cell_type": "code",
   "execution_count": 192,
   "id": "995eab57-d10f-496d-9ac3-a85eb29a3543",
   "metadata": {},
   "outputs": [
    {
     "data": {
      "text/plain": [
       "3"
      ]
     },
     "execution_count": 192,
     "metadata": {},
     "output_type": "execute_result"
    }
   ],
   "source": [
    "list10.count(5)"
   ]
  },
  {
   "cell_type": "code",
   "execution_count": 194,
   "id": "0df32f45-c95a-4ae6-bf9e-3774e888b8ec",
   "metadata": {},
   "outputs": [
    {
     "data": {
      "text/plain": [
       "0"
      ]
     },
     "execution_count": 194,
     "metadata": {},
     "output_type": "execute_result"
    }
   ],
   "source": [
    "list10.count(10)"
   ]
  },
  {
   "cell_type": "markdown",
   "id": "8099a6d0-3749-4a62-9ad1-7febc4b422ed",
   "metadata": {},
   "source": [
    "#### 15. All/Any"
   ]
  },
  {
   "cell_type": "markdown",
   "id": "ffa91b8e-90e6-41f9-9cea-1309d892063a",
   "metadata": {},
   "source": [
    "###### The all( ) method returns: True - If all elements in a list are true;"
   ]
  },
  {
   "cell_type": "markdown",
   "id": "a8decec4-bd5e-487b-b6de-3deafea13982",
   "metadata": {},
   "source": [
    "##### False - If any element in a list is false\n",
    "Similar to AND Gate *\n"
   ]
  },
  {
   "cell_type": "markdown",
   "id": "d74ac34e-0a20-48a3-95d3-2a612198dd34",
   "metadata": {},
   "source": [
    "##### The any( ) function returns True if any element in the list is True."
   ]
  },
  {
   "cell_type": "markdown",
   "id": "73992dd4-007a-46ab-a5a3-aa32652a7e5c",
   "metadata": {},
   "source": [
    "If not, any() returns False.\r\n",
    "Similar to OR Gate +"
   ]
  },
  {
   "cell_type": "code",
   "execution_count": 209,
   "id": "fc9383e0-a84e-47d2-b1b6-e6bae055ce42",
   "metadata": {},
   "outputs": [
    {
     "data": {
      "text/plain": [
       "[1, 2, 3, 4, 0]"
      ]
     },
     "execution_count": 209,
     "metadata": {},
     "output_type": "execute_result"
    }
   ],
   "source": [
    "L1 = [1,2,3,4,0]\n",
    "L1"
   ]
  },
  {
   "cell_type": "code",
   "execution_count": 211,
   "id": "f7575746-8a06-490d-94da-6b530fcaa745",
   "metadata": {},
   "outputs": [
    {
     "data": {
      "text/plain": [
       "False"
      ]
     },
     "execution_count": 211,
     "metadata": {},
     "output_type": "execute_result"
    }
   ],
   "source": [
    "all(L1) #Returns False because as one value is False i.e 0"
   ]
  },
  {
   "cell_type": "code",
   "execution_count": 213,
   "id": "2ef1531a-5c45-468b-8b35-73f15819f8ce",
   "metadata": {},
   "outputs": [
    {
     "data": {
      "text/plain": [
       "True"
      ]
     },
     "execution_count": 213,
     "metadata": {},
     "output_type": "execute_result"
    }
   ],
   "source": [
    "any(L1) #Return True because we have items with True value"
   ]
  },
  {
   "cell_type": "code",
   "execution_count": 215,
   "id": "d19e320b-7a52-45d0-ad4c-c542447d0843",
   "metadata": {},
   "outputs": [
    {
     "data": {
      "text/plain": [
       "[10, 20, 50, 50, True]"
      ]
     },
     "execution_count": 215,
     "metadata": {},
     "output_type": "execute_result"
    }
   ],
   "source": [
    "L2 = [10,20,50,50,True]\n",
    "L2"
   ]
  },
  {
   "cell_type": "code",
   "execution_count": 217,
   "id": "3b327a3a-e111-498b-9477-aac413d11ba7",
   "metadata": {},
   "outputs": [
    {
     "data": {
      "text/plain": [
       "True"
      ]
     },
     "execution_count": 217,
     "metadata": {},
     "output_type": "execute_result"
    }
   ],
   "source": [
    "all(L2)"
   ]
  },
  {
   "cell_type": "code",
   "execution_count": 219,
   "id": "78db619d-e970-4c88-8add-926e387eeef7",
   "metadata": {},
   "outputs": [
    {
     "data": {
      "text/plain": [
       "[0, 0, False]"
      ]
     },
     "execution_count": 219,
     "metadata": {},
     "output_type": "execute_result"
    }
   ],
   "source": [
    "L3=[0,0,False]\n",
    "L3"
   ]
  },
  {
   "cell_type": "code",
   "execution_count": 221,
   "id": "44e41476-220e-4872-96ab-33468127a8ed",
   "metadata": {},
   "outputs": [
    {
     "data": {
      "text/plain": [
       "False"
      ]
     },
     "execution_count": 221,
     "metadata": {},
     "output_type": "execute_result"
    }
   ],
   "source": [
    "all(L3)"
   ]
  },
  {
   "cell_type": "code",
   "execution_count": 223,
   "id": "08ffeef3-de1e-4bac-901d-608bfc05fe93",
   "metadata": {},
   "outputs": [
    {
     "data": {
      "text/plain": [
       "False"
      ]
     },
     "execution_count": 223,
     "metadata": {},
     "output_type": "execute_result"
    }
   ],
   "source": [
    "any(L3)"
   ]
  }
 ],
 "metadata": {
  "kernelspec": {
   "display_name": "Python 3 (ipykernel)",
   "language": "python",
   "name": "python3"
  },
  "language_info": {
   "codemirror_mode": {
    "name": "ipython",
    "version": 3
   },
   "file_extension": ".py",
   "mimetype": "text/x-python",
   "name": "python",
   "nbconvert_exporter": "python",
   "pygments_lexer": "ipython3",
   "version": "3.12.4"
  }
 },
 "nbformat": 4,
 "nbformat_minor": 5
}
