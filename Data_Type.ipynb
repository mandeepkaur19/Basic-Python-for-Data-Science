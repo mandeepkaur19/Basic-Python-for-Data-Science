{
 "cells": [
  {
   "cell_type": "code",
   "execution_count": 3,
   "id": "e1ee2376-9edd-4c0c-b907-34fca2e4c3f9",
   "metadata": {},
   "outputs": [],
   "source": [
    "import sys\n",
    "import keyword\n",
    "import operator\n",
    "from datetime import datetime\n",
    "import os"
   ]
  },
  {
   "cell_type": "code",
   "execution_count": null,
   "id": "d3b01b77-6688-460a-bfde-c8db57dd3a4d",
   "metadata": {},
   "outputs": [],
   "source": []
  },
  {
   "cell_type": "code",
   "execution_count": null,
   "id": "5c7f4b3a-cc14-4f22-8f68-0aaaee7abaea",
   "metadata": {},
   "outputs": [],
   "source": []
  },
  {
   "cell_type": "markdown",
   "id": "077fe5fa-ad05-44b5-af41-ea995bb38ec7",
   "metadata": {},
   "source": [
    "KEYWORDS"
   ]
  },
  {
   "cell_type": "code",
   "execution_count": 6,
   "id": "ba7d4b38-5e90-4971-85c3-28eb9d57c611",
   "metadata": {},
   "outputs": [
    {
     "name": "stdout",
     "output_type": "stream",
     "text": [
      "['False', 'None', 'True', 'and', 'as', 'assert', 'async', 'await', 'break', 'class', 'continue', 'def', 'del', 'elif', 'else', 'except', 'finally', 'for', 'from', 'global', 'if', 'import', 'in', 'is', 'lambda', 'nonlocal', 'not', 'or', 'pass', 'raise', 'return', 'try', 'while', 'with', 'yield']\n"
     ]
    }
   ],
   "source": [
    "print(keyword.kwlist) #List all Python Keywords"
   ]
  },
  {
   "cell_type": "code",
   "execution_count": 8,
   "id": "0469bd25-e41f-4ddd-99c8-ec86b5a6288a",
   "metadata": {},
   "outputs": [
    {
     "data": {
      "text/plain": [
       "35"
      ]
     },
     "execution_count": 8,
     "metadata": {},
     "output_type": "execute_result"
    }
   ],
   "source": [
    "len(keyword.kwlist) #Python contains 35 keywords"
   ]
  },
  {
   "cell_type": "markdown",
   "id": "e3346e2a-aad1-4000-b43e-1d2e484014f2",
   "metadata": {},
   "source": [
    "Identifiers"
   ]
  },
  {
   "cell_type": "code",
   "execution_count": 10,
   "id": "3f588801-fcf2-4639-9dfe-c599f6dce20b",
   "metadata": {},
   "outputs": [
    {
     "ename": "SyntaxError",
     "evalue": "invalid decimal literal (2772105000.py, line 1)",
     "output_type": "error",
     "traceback": [
      "\u001b[1;36m  Cell \u001b[1;32mIn[10], line 1\u001b[1;36m\u001b[0m\n\u001b[1;33m    1var = 10\u001b[0m\n\u001b[1;37m    ^\u001b[0m\n\u001b[1;31mSyntaxError\u001b[0m\u001b[1;31m:\u001b[0m invalid decimal literal\n"
     ]
    }
   ],
   "source": [
    "1var = 10 #Identifier can't start with a digit"
   ]
  },
  {
   "cell_type": "code",
   "execution_count": 12,
   "id": "d2537299-b590-4cdb-a80e-4d906e239b5e",
   "metadata": {},
   "outputs": [
    {
     "ename": "SyntaxError",
     "evalue": "invalid syntax (2788264428.py, line 1)",
     "output_type": "error",
     "traceback": [
      "\u001b[1;36m  Cell \u001b[1;32mIn[12], line 1\u001b[1;36m\u001b[0m\n\u001b[1;33m    va12@ = 35 #Indentifire can't use special symbols\u001b[0m\n\u001b[1;37m          ^\u001b[0m\n\u001b[1;31mSyntaxError\u001b[0m\u001b[1;31m:\u001b[0m invalid syntax\n"
     ]
    }
   ],
   "source": [
    "va12@ = 35 #Indentifire can't use special symbols"
   ]
  },
  {
   "cell_type": "code",
   "execution_count": 14,
   "id": "3b74de28-0f96-4299-acb5-f88517b844a8",
   "metadata": {},
   "outputs": [
    {
     "ename": "SyntaxError",
     "evalue": "invalid syntax (1611983733.py, line 1)",
     "output_type": "error",
     "traceback": [
      "\u001b[1;36m  Cell \u001b[1;32mIn[14], line 1\u001b[1;36m\u001b[0m\n\u001b[1;33m    import = 125 #Keywords can't be used as identifiers\u001b[0m\n\u001b[1;37m           ^\u001b[0m\n\u001b[1;31mSyntaxError\u001b[0m\u001b[1;31m:\u001b[0m invalid syntax\n"
     ]
    }
   ],
   "source": [
    "import = 125 #Keywords can't be used as identifiers"
   ]
  },
  {
   "cell_type": "code",
   "execution_count": 23,
   "id": "acdad869-56f4-4acd-b8eb-7e2d0b3fa411",
   "metadata": {},
   "outputs": [],
   "source": [
    "\"\"\"\n",
    "kjfjdn fnnjrn nfjdnjf enjmwj fnjdfdm fndm\n",
    "fmdn d fndfdslsj jnejfndnnuehunss fnj fmnfm \n",
    "hune nbjennnejhufenjefjnefjnejnf\n",
    "\"\"\"\n",
    "va12 = 10"
   ]
  },
  {
   "cell_type": "code",
   "execution_count": 25,
   "id": "128206ca-2fa3-4ae0-a60f-2875487ef4a7",
   "metadata": {},
   "outputs": [],
   "source": [
    "val_ = 99"
   ]
  },
  {
   "cell_type": "markdown",
   "id": "d1027868-7427-42d5-9070-c4cc035ba164",
   "metadata": {},
   "source": [
    "Comments in Python"
   ]
  },
  {
   "cell_type": "code",
   "execution_count": 29,
   "id": "0643487a-3318-46bf-826f-19359d57f411",
   "metadata": {},
   "outputs": [],
   "source": [
    "#single line comment\\\n",
    "val1 = 10"
   ]
  },
  {
   "cell_type": "code",
   "execution_count": 31,
   "id": "7aa74f71-73e8-42f8-b404-354afbaeb389",
   "metadata": {},
   "outputs": [],
   "source": [
    "#Multiple\n",
    "#line \n",
    "#comment\n",
    "val1 =10"
   ]
  },
  {
   "cell_type": "code",
   "execution_count": 35,
   "id": "62612a52-1d66-4b10-916e-c6e157a3f8e0",
   "metadata": {},
   "outputs": [],
   "source": [
    "'''\n",
    "MUMBAI IS THE \n",
    "CAPITAL OF \n",
    "India\n",
    "'''\n",
    "val1 = 10"
   ]
  },
  {
   "cell_type": "code",
   "execution_count": 41,
   "id": "af79c8b5-13eb-478d-a884-9029cd622e7a",
   "metadata": {},
   "outputs": [],
   "source": [
    "\"\"\"\n",
    "Multiple\n",
    "line\n",
    "comment\n",
    "\"\"\"\n",
    "val1 = 10"
   ]
  },
  {
   "cell_type": "markdown",
   "id": "9a549bed-b4d9-43a5-a98b-8fa1a02d4778",
   "metadata": {},
   "source": [
    "Satements"
   ]
  },
  {
   "cell_type": "code",
   "execution_count": 47,
   "id": "8966876a-4fde-4799-8678-1e0ac8dc2f1f",
   "metadata": {},
   "outputs": [
    {
     "data": {
      "text/plain": [
       "(20, int, '0x7ff99b3f3c18')"
      ]
     },
     "execution_count": 47,
     "metadata": {},
     "output_type": "execute_result"
    }
   ],
   "source": [
    "p = 20 \n",
    "q = 20\n",
    "r = q\n",
    "p, type(p), hex(id(p)) #Output: The same address in hexadecimal format\n",
    "                       #(id(p)) # Output: A decimal number representing the memory address"
   ]
  },
  {
   "cell_type": "code",
   "execution_count": 49,
   "id": "3cb1b274-b720-42ff-bd3c-d45aac5effa9",
   "metadata": {},
   "outputs": [
    {
     "data": {
      "text/plain": [
       "(20, int, '0x7ff99b3f3c18')"
      ]
     },
     "execution_count": 49,
     "metadata": {},
     "output_type": "execute_result"
    }
   ],
   "source": [
    "r, type(r), hex(id(p))"
   ]
  },
  {
   "cell_type": "code",
   "execution_count": 51,
   "id": "06f75537-ca8b-4908-8394-57d9f0f29d4a",
   "metadata": {},
   "outputs": [
    {
     "data": {
      "text/plain": [
       "140710028196888"
      ]
     },
     "execution_count": 51,
     "metadata": {},
     "output_type": "execute_result"
    }
   ],
   "source": [
    "(id(r))"
   ]
  },
  {
   "cell_type": "code",
   "execution_count": 56,
   "id": "261d735e-db6d-4fe1-a766-075b1cb09dbe",
   "metadata": {},
   "outputs": [
    {
     "data": {
      "text/plain": [
       "30"
      ]
     },
     "execution_count": 56,
     "metadata": {},
     "output_type": "execute_result"
    }
   ],
   "source": [
    "p = 20\n",
    "p = p+10 #Variable Overwriting\n",
    "p"
   ]
  },
  {
   "cell_type": "markdown",
   "id": "c53faf63-c383-44cf-a004-9984a768f1f6",
   "metadata": {},
   "source": [
    "Variable Assigment"
   ]
  },
  {
   "cell_type": "code",
   "execution_count": 60,
   "id": "2921c28c-f2f5-495d-81b9-4b65d3eb8027",
   "metadata": {},
   "outputs": [
    {
     "name": "stdout",
     "output_type": "stream",
     "text": [
      "10\n",
      "2.57\n",
      "Python Variable\n"
     ]
    }
   ],
   "source": [
    "intvar = 10 #Integer variable\n",
    "floatvar = 2.57 #Float Variable\n",
    "strvar = \"Python Variable\" #string variable\n",
    "print(intvar)\n",
    "print(floatvar)\n",
    "print(strvar)"
   ]
  },
  {
   "cell_type": "markdown",
   "id": "39503949-033d-4efe-bffe-58cb0860b62d",
   "metadata": {},
   "source": [
    "Multiple Assignments"
   ]
  },
  {
   "cell_type": "code",
   "execution_count": 64,
   "id": "99621587-a819-4487-8c5d-7f486a9191ae",
   "metadata": {},
   "outputs": [
    {
     "name": "stdout",
     "output_type": "stream",
     "text": [
      "10\n",
      "2.57\n",
      "Python Variable\n"
     ]
    }
   ],
   "source": [
    "intvar, floatvar, strvar = 10, 2.57, \"Python Variable\" #Using commad to separat\n",
    "print(intvar)\n",
    "print(floatvar)\n",
    "print(strvar)"
   ]
  },
  {
   "cell_type": "code",
   "execution_count": 66,
   "id": "35c9fd7b-96f2-4a51-89fe-854313589639",
   "metadata": {},
   "outputs": [
    {
     "name": "stdout",
     "output_type": "stream",
     "text": [
      "44 44 44 44\n"
     ]
    }
   ],
   "source": [
    "p1 = p2 = p3 = p4 = 44 #all variable pointing the same value\n",
    "print(p1,p2,p3,p4)"
   ]
  },
  {
   "cell_type": "markdown",
   "id": "54176aab-5a91-46b2-9d41-d62d41ed4969",
   "metadata": {},
   "source": [
    "DATA TYPES\n",
    "Numeric"
   ]
  },
  {
   "cell_type": "code",
   "execution_count": 80,
   "id": "85b88355-cea7-4410-be9f-b48d85e6f942",
   "metadata": {},
   "outputs": [
    {
     "name": "stdout",
     "output_type": "stream",
     "text": [
      "10\n",
      "<class 'int'>\n",
      "28\n",
      "10 is Integer? True\n"
     ]
    }
   ],
   "source": [
    "val1 = 10 # Integer data type\n",
    "print(val1)\n",
    "print(type(val1)) #Type of Object\n",
    "print(sys.getsizeof(val1)) #Sie of integer object in bytes\n",
    "print(val1, \"is Integer?\", isinstance(val1, int)) #val1 is an instance of int"
   ]
  },
  {
   "cell_type": "code",
   "execution_count": 82,
   "id": "ab6716f7-ab35-40c9-b263-25426d08be37",
   "metadata": {},
   "outputs": [
    {
     "name": "stdout",
     "output_type": "stream",
     "text": [
      "92.78\n",
      "<class 'float'>\n",
      "24\n",
      "92.78 is Integer? False\n"
     ]
    }
   ],
   "source": [
    "val2 = 92.78 # Float data type\n",
    "print(val2)\n",
    "print(type(val2)) #Type of Object\n",
    "print(sys.getsizeof(val2)) #Sie of float object in bytes\n",
    "print(val2, \"is float?\", isinstance(val2, int)) #val2 is an instance of int"
   ]
  },
  {
   "cell_type": "code",
   "execution_count": 84,
   "id": "9bf93bb1-37c5-482b-9381-4f101b0e9544",
   "metadata": {},
   "outputs": [
    {
     "name": "stdout",
     "output_type": "stream",
     "text": [
      "(25+10j)\n",
      "<class 'complex'>\n",
      "32\n",
      "(25+10j) is Complex? False\n"
     ]
    }
   ],
   "source": [
    "val3 = 25 + 10j # Complex data type\n",
    "print(val3)\n",
    "print(type(val3)) #Type of Object\n",
    "print(sys.getsizeof(val3)) #Sie of integer object in bytes\n",
    "print(val3, \"is Complex?\", isinstance(val3, int)) #val3 is an instance of int"
   ]
  },
  {
   "cell_type": "code",
   "execution_count": 86,
   "id": "7438ee42-658d-4439-92ad-45fe95e9f057",
   "metadata": {},
   "outputs": [
    {
     "data": {
      "text/plain": [
       "28"
      ]
     },
     "execution_count": 86,
     "metadata": {},
     "output_type": "execute_result"
    }
   ],
   "source": [
    "sys.getsizeof(int()) #size of integer object in bytes"
   ]
  },
  {
   "cell_type": "code",
   "execution_count": 88,
   "id": "e0321fab-a7f3-46dd-b38b-14a82b316570",
   "metadata": {},
   "outputs": [
    {
     "data": {
      "text/plain": [
       "24"
      ]
     },
     "execution_count": 88,
     "metadata": {},
     "output_type": "execute_result"
    }
   ],
   "source": [
    "sys.getsizeof(float()) #size of float object in bytes"
   ]
  },
  {
   "cell_type": "code",
   "execution_count": 90,
   "id": "f7496089-4fba-428b-8f1d-ad116f8c6b31",
   "metadata": {},
   "outputs": [
    {
     "data": {
      "text/plain": [
       "32"
      ]
     },
     "execution_count": 90,
     "metadata": {},
     "output_type": "execute_result"
    }
   ],
   "source": [
    "sys.getsizeof(complex()) #size of complex in bytes"
   ]
  },
  {
   "cell_type": "markdown",
   "id": "ad45000d-0779-4b36-a9f5-50e009e5dbf5",
   "metadata": {},
   "source": [
    "BOOlean"
   ]
  },
  {
   "cell_type": "code",
   "execution_count": 96,
   "id": "8a117c17-e2ac-4eae-b3df-e849994975a2",
   "metadata": {},
   "outputs": [],
   "source": [
    "bool1 = True"
   ]
  },
  {
   "cell_type": "code",
   "execution_count": 98,
   "id": "9f6084ef-41bb-4ff4-a310-0f07163a85a9",
   "metadata": {},
   "outputs": [],
   "source": [
    "bool2 = False"
   ]
  },
  {
   "cell_type": "code",
   "execution_count": 100,
   "id": "a441aa9d-c529-4e89-a9b8-354f06617ac0",
   "metadata": {},
   "outputs": [
    {
     "name": "stdout",
     "output_type": "stream",
     "text": [
      "<class 'bool'>\n"
     ]
    }
   ],
   "source": [
    "print(type(bool1))"
   ]
  },
  {
   "cell_type": "code",
   "execution_count": 102,
   "id": "aef37d50-53a4-404a-bc5a-c2a91c3ffc3c",
   "metadata": {},
   "outputs": [
    {
     "name": "stdout",
     "output_type": "stream",
     "text": [
      "<class 'bool'>\n"
     ]
    }
   ],
   "source": [
    "print(type(bool2))"
   ]
  },
  {
   "cell_type": "code",
   "execution_count": 104,
   "id": "4774cfc6-27be-432e-bb0f-aaeeef2d53ab",
   "metadata": {},
   "outputs": [
    {
     "data": {
      "text/plain": [
       "True"
      ]
     },
     "execution_count": 104,
     "metadata": {},
     "output_type": "execute_result"
    }
   ],
   "source": [
    "isinstance(bool1, bool)"
   ]
  },
  {
   "cell_type": "code",
   "execution_count": 106,
   "id": "58bb5863-8b21-49c1-8835-9630e8064eeb",
   "metadata": {},
   "outputs": [
    {
     "data": {
      "text/plain": [
       "False"
      ]
     },
     "execution_count": 106,
     "metadata": {},
     "output_type": "execute_result"
    }
   ],
   "source": [
    "bool(0)"
   ]
  },
  {
   "cell_type": "code",
   "execution_count": 108,
   "id": "167534a8-baac-4a0f-a190-148294c13214",
   "metadata": {},
   "outputs": [
    {
     "data": {
      "text/plain": [
       "True"
      ]
     },
     "execution_count": 108,
     "metadata": {},
     "output_type": "execute_result"
    }
   ],
   "source": [
    "bool(1)"
   ]
  },
  {
   "cell_type": "code",
   "execution_count": 110,
   "id": "65e9c07f-185f-477d-9ee7-5d1e0dae0651",
   "metadata": {},
   "outputs": [
    {
     "data": {
      "text/plain": [
       "False"
      ]
     },
     "execution_count": 110,
     "metadata": {},
     "output_type": "execute_result"
    }
   ],
   "source": [
    "bool(None)"
   ]
  },
  {
   "cell_type": "code",
   "execution_count": 112,
   "id": "0dca7fa3-716e-44e3-8556-5a7cbf8cf68a",
   "metadata": {},
   "outputs": [
    {
     "data": {
      "text/plain": [
       "False"
      ]
     },
     "execution_count": 112,
     "metadata": {},
     "output_type": "execute_result"
    }
   ],
   "source": [
    "bool(False)"
   ]
  },
  {
   "cell_type": "markdown",
   "id": "77b839d7-a9d3-4bc5-9d84-8ae239d8e51f",
   "metadata": {},
   "source": [
    "String "
   ]
  },
  {
   "cell_type": "markdown",
   "id": "93e8ef9f-5003-483d-94fa-479f7c5117bc",
   "metadata": {},
   "source": [
    "creation"
   ]
  },
  {
   "cell_type": "code",
   "execution_count": 120,
   "id": "21cb28e0-9aab-42dd-a4b0-20abef1bb123",
   "metadata": {},
   "outputs": [
    {
     "name": "stdout",
     "output_type": "stream",
     "text": [
      "Hello Python\n"
     ]
    }
   ],
   "source": [
    "str1 = \"Hello Python\"\n",
    "print(str1)"
   ]
  },
  {
   "cell_type": "code",
   "execution_count": 122,
   "id": "cac0279c-907e-4615-877a-e8c73f9d66b3",
   "metadata": {},
   "outputs": [
    {
     "name": "stdout",
     "output_type": "stream",
     "text": [
      "Hello World\n"
     ]
    }
   ],
   "source": [
    "mystr = 'Hello World' #Define string using single quotes \n",
    "print(mystr)"
   ]
  },
  {
   "cell_type": "code",
   "execution_count": null,
   "id": "1e53f66c-4c97-4550-8c0b-774376ac5106",
   "metadata": {},
   "outputs": [],
   "source": [
    "mystr = \"Hello World\" #Define string using double quotes\n",
    "print(mystr)"
   ]
  },
  {
   "cell_type": "code",
   "execution_count": 124,
   "id": "d8db34e4-9831-4c64-aac2-b0ba659dbc75",
   "metadata": {},
   "outputs": [
    {
     "name": "stdout",
     "output_type": "stream",
     "text": [
      "Hello \n",
      "            World\n"
     ]
    }
   ],
   "source": [
    "mystr = '''Hello \n",
    "            World''' #Define string using triple quotes \n",
    "print(mystr)"
   ]
  },
  {
   "cell_type": "code",
   "execution_count": 126,
   "id": "2f300c0e-ce7e-45db-a6ab-b01f4683894b",
   "metadata": {},
   "outputs": [
    {
     "name": "stdout",
     "output_type": "stream",
     "text": [
      "Hello \n",
      "            World\n"
     ]
    }
   ],
   "source": [
    "mystr = \"\"\"Hello \n",
    "            World\"\"\" #Define string using triple quotes \n",
    "print(mystr)"
   ]
  },
  {
   "cell_type": "code",
   "execution_count": 136,
   "id": "ad82d895-83e2-4900-9604-0c0d8ea9748b",
   "metadata": {},
   "outputs": [
    {
     "name": "stdout",
     "output_type": "stream",
     "text": [
      "Happy Monday Everyone\n"
     ]
    }
   ],
   "source": [
    "mystr = ('Happy '\n",
    "         'Monday '\n",
    "        'Everyone')\n",
    "print(mystr)"
   ]
  },
  {
   "cell_type": "code",
   "execution_count": 138,
   "id": "f2082818-2d39-4ddb-a74d-25e8bbb70c16",
   "metadata": {},
   "outputs": [
    {
     "data": {
      "text/plain": [
       "'Woohoo Woohoo Woohoo Woohoo Woohoo '"
      ]
     },
     "execution_count": 138,
     "metadata": {},
     "output_type": "execute_result"
    }
   ],
   "source": [
    "mystr2 = 'Woohoo '\n",
    "mystr2 = mystr2*5\n",
    "mystr2"
   ]
  },
  {
   "cell_type": "code",
   "execution_count": 140,
   "id": "a902e2f1-8b51-417f-bf6e-b8ef314bb5ea",
   "metadata": {},
   "outputs": [
    {
     "data": {
      "text/plain": [
       "35"
      ]
     },
     "execution_count": 140,
     "metadata": {},
     "output_type": "execute_result"
    }
   ],
   "source": [
    "len(mystr2) #Length of string"
   ]
  },
  {
   "cell_type": "markdown",
   "id": "64125193-71a2-498d-907f-474caad17c0e",
   "metadata": {},
   "source": [
    "String Indexing"
   ]
  },
  {
   "cell_type": "code",
   "execution_count": 143,
   "id": "51bb5eef-88b0-4e56-b3d4-d54f72afeff1",
   "metadata": {},
   "outputs": [
    {
     "data": {
      "text/plain": [
       "'Hello Python'"
      ]
     },
     "execution_count": 143,
     "metadata": {},
     "output_type": "execute_result"
    }
   ],
   "source": [
    "str1"
   ]
  },
  {
   "cell_type": "code",
   "execution_count": 145,
   "id": "bf50baa0-8b25-4192-8198-11911c8650aa",
   "metadata": {},
   "outputs": [
    {
     "data": {
      "text/plain": [
       "'H'"
      ]
     },
     "execution_count": 145,
     "metadata": {},
     "output_type": "execute_result"
    }
   ],
   "source": [
    "str1[0] #First character in string \"str1\""
   ]
  },
  {
   "cell_type": "code",
   "execution_count": 147,
   "id": "61c6d9f2-e0e8-4812-966a-f3973565dcfd",
   "metadata": {},
   "outputs": [
    {
     "data": {
      "text/plain": [
       "'n'"
      ]
     },
     "execution_count": 147,
     "metadata": {},
     "output_type": "execute_result"
    }
   ],
   "source": [
    "str1[len(str1)-1] # Last character in string using len function"
   ]
  },
  {
   "cell_type": "code",
   "execution_count": 149,
   "id": "4347a5cc-ea79-4469-be9f-bb037fa788b6",
   "metadata": {},
   "outputs": [
    {
     "data": {
      "text/plain": [
       "'n'"
      ]
     },
     "execution_count": 149,
     "metadata": {},
     "output_type": "execute_result"
    }
   ],
   "source": [
    "str1[-1] # Last character in string"
   ]
  },
  {
   "cell_type": "code",
   "execution_count": 151,
   "id": "1b1d48d7-b1f6-4d20-bc0a-fb49e200a116",
   "metadata": {},
   "outputs": [
    {
     "data": {
      "text/plain": [
       "'P'"
      ]
     },
     "execution_count": 151,
     "metadata": {},
     "output_type": "execute_result"
    }
   ],
   "source": [
    "str1[6] #Fetch 7th element of the string"
   ]
  },
  {
   "cell_type": "code",
   "execution_count": 153,
   "id": "ac6fa547-3125-403d-8ce2-b1b707f17159",
   "metadata": {},
   "outputs": [
    {
     "data": {
      "text/plain": [
       "' '"
      ]
     },
     "execution_count": 153,
     "metadata": {},
     "output_type": "execute_result"
    }
   ],
   "source": [
    "str1[5]"
   ]
  },
  {
   "cell_type": "markdown",
   "id": "56d50d88-41ef-4505-820b-2f269502d8b2",
   "metadata": {},
   "source": [
    "String Slicing"
   ]
  },
  {
   "cell_type": "code",
   "execution_count": 158,
   "id": "afd79132-4425-442e-85a9-dc14e217ac9d",
   "metadata": {},
   "outputs": [
    {
     "data": {
      "text/plain": [
       "'Hello'"
      ]
     },
     "execution_count": 158,
     "metadata": {},
     "output_type": "execute_result"
    }
   ],
   "source": [
    "str1[0:5] #String slicing - Fetch all characters from 0 to 5 index location"
   ]
  },
  {
   "cell_type": "code",
   "execution_count": 160,
   "id": "261f3345-1b2c-46dc-875a-d89b1e730ad0",
   "metadata": {},
   "outputs": [
    {
     "data": {
      "text/plain": [
       "'Python'"
      ]
     },
     "execution_count": 160,
     "metadata": {},
     "output_type": "execute_result"
    }
   ],
   "source": [
    "str1[6:12] # String slicing - Retreive all characters between 6 - 12 index loc e"
   ]
  },
  {
   "cell_type": "code",
   "execution_count": 162,
   "id": "08f89b6a-0ac3-4f32-860d-50783a8cae53",
   "metadata": {},
   "outputs": [
    {
     "data": {
      "text/plain": [
       "'thon'"
      ]
     },
     "execution_count": 162,
     "metadata": {},
     "output_type": "execute_result"
    }
   ],
   "source": [
    "str1[-4:] # Retreive last four characters of the string"
   ]
  },
  {
   "cell_type": "code",
   "execution_count": 170,
   "id": "97f65da1-ce0d-43bc-8905-9954959e63d2",
   "metadata": {},
   "outputs": [
    {
     "data": {
      "text/plain": [
       "'Python'"
      ]
     },
     "execution_count": 170,
     "metadata": {},
     "output_type": "execute_result"
    }
   ],
   "source": [
    "str1[-6:] # Retreive last six characters of the string"
   ]
  },
  {
   "cell_type": "code",
   "execution_count": 166,
   "id": "5391ac4d-d2b3-4bd9-a5ba-5bb04c4b99db",
   "metadata": {},
   "outputs": [
    {
     "data": {
      "text/plain": [
       "'Hell'"
      ]
     },
     "execution_count": 166,
     "metadata": {},
     "output_type": "execute_result"
    }
   ],
   "source": [
    "str1[:4] # Retreive first four characters of the string"
   ]
  },
  {
   "cell_type": "markdown",
   "id": "06d73fb9-2d7b-406f-87bb-df6e64b2310a",
   "metadata": {},
   "source": [
    "Update & Delete String"
   ]
  },
  {
   "cell_type": "code",
   "execution_count": 172,
   "id": "89fff7be-6d02-446a-9960-686b92bf3afc",
   "metadata": {},
   "outputs": [
    {
     "data": {
      "text/plain": [
       "'Hello Python'"
      ]
     },
     "execution_count": 172,
     "metadata": {},
     "output_type": "execute_result"
    }
   ],
   "source": [
    "str1"
   ]
  },
  {
   "cell_type": "code",
   "execution_count": 168,
   "id": "c9c98c9c-9010-4372-b976-6485e888bd6c",
   "metadata": {},
   "outputs": [
    {
     "data": {
      "text/plain": [
       "'Hello '"
      ]
     },
     "execution_count": 168,
     "metadata": {},
     "output_type": "execute_result"
    }
   ],
   "source": [
    "str1[:6] # Retreive first six characters of the string"
   ]
  },
  {
   "cell_type": "code",
   "execution_count": 174,
   "id": "b2151dcc-8893-47e4-b1e3-a21d8fd697fc",
   "metadata": {},
   "outputs": [
    {
     "ename": "TypeError",
     "evalue": "'str' object does not support item assignment",
     "output_type": "error",
     "traceback": [
      "\u001b[1;31m---------------------------------------------------------------------------\u001b[0m",
      "\u001b[1;31mTypeError\u001b[0m                                 Traceback (most recent call last)",
      "Cell \u001b[1;32mIn[174], line 2\u001b[0m\n\u001b[0;32m      1\u001b[0m \u001b[38;5;66;03m#Strings are immutable which means elements of a string cannot be changed once t\u001b[39;00m\n\u001b[1;32m----> 2\u001b[0m str1[\u001b[38;5;241m0\u001b[39m:\u001b[38;5;241m5\u001b[39m] \u001b[38;5;241m=\u001b[39m \u001b[38;5;124m'\u001b[39m\u001b[38;5;124mHOLAA\u001b[39m\u001b[38;5;124m'\u001b[39m\n",
      "\u001b[1;31mTypeError\u001b[0m: 'str' object does not support item assignment"
     ]
    }
   ],
   "source": [
    "#Strings are immutable which means elements of a string cannot be changed once t\n",
    "str1[0:5] = 'HOLAA'"
   ]
  },
  {
   "cell_type": "code",
   "execution_count": 178,
   "id": "4c9a64a5-a82d-402d-af2e-b334e3d1c1c6",
   "metadata": {},
   "outputs": [
    {
     "ename": "NameError",
     "evalue": "name 'srt1' is not defined",
     "output_type": "error",
     "traceback": [
      "\u001b[1;31m---------------------------------------------------------------------------\u001b[0m",
      "\u001b[1;31mNameError\u001b[0m                                 Traceback (most recent call last)",
      "Cell \u001b[1;32mIn[178], line 2\u001b[0m\n\u001b[0;32m      1\u001b[0m \u001b[38;5;28;01mdel\u001b[39;00m str1 \u001b[38;5;66;03m# Delete a string\u001b[39;00m\n\u001b[1;32m----> 2\u001b[0m \u001b[38;5;28mprint\u001b[39m(srt1)\n",
      "\u001b[1;31mNameError\u001b[0m: name 'srt1' is not defined"
     ]
    }
   ],
   "source": [
    "del str1 # Delete a string\n",
    "print(srt1)"
   ]
  },
  {
   "cell_type": "markdown",
   "id": "5aa6c533-f0e0-4899-9c0d-1f437b4e2f6d",
   "metadata": {},
   "source": [
    "String Concatenation"
   ]
  },
  {
   "cell_type": "code",
   "execution_count": 195,
   "id": "e63fec3c-0af5-4879-ae0e-cb2e1711bcec",
   "metadata": {},
   "outputs": [
    {
     "name": "stdout",
     "output_type": "stream",
     "text": [
      "Hello***World\n"
     ]
    }
   ],
   "source": [
    "#String concatenation\n",
    "s1 = \"Hello\"\n",
    "s2 = \"***\"\n",
    "s3 = \"World\"\n",
    "s4 = s1 + s2 + s3\n",
    "print(s4)"
   ]
  },
  {
   "cell_type": "markdown",
   "id": "585cd7e3-b61f-4212-86d1-51c5b83dd5a7",
   "metadata": {},
   "source": [
    "#### .lstrip() Return a copy of the string with leading whitespace removed."
   ]
  },
  {
   "cell_type": "code",
   "execution_count": 5,
   "id": "e9fadfa0-25a9-4e84-9c1e-18147712c6af",
   "metadata": {},
   "outputs": [
    {
     "data": {
      "text/plain": [
       "'abc efg sda    '"
      ]
     },
     "execution_count": 5,
     "metadata": {},
     "output_type": "execute_result"
    }
   ],
   "source": [
    "txt = \"        abc efg sda    \"\n",
    "txt.lstrip()"
   ]
  },
  {
   "cell_type": "markdown",
   "id": "b0443832-2a7d-4c94-8d8e-30a99ff16950",
   "metadata": {},
   "source": [
    "#### Using Escape Character"
   ]
  },
  {
   "cell_type": "markdown",
   "id": "d8b18e69-29e1-45a7-b91b-cb6ff9dcf6cd",
   "metadata": {},
   "source": [
    "Using double quotes in the string is not allowed."
   ]
  },
  {
   "cell_type": "code",
   "execution_count": 9,
   "id": "f2015119-c6a4-42d8-8a37-f4396039c715",
   "metadata": {},
   "outputs": [
    {
     "ename": "SyntaxError",
     "evalue": "invalid syntax (1210035807.py, line 1)",
     "output_type": "error",
     "traceback": [
      "\u001b[1;36m  Cell \u001b[1;32mIn[9], line 1\u001b[1;36m\u001b[0m\n\u001b[1;33m    mystr = \"My favourite TV Series is \"Game of Thrones\"\"\u001b[0m\n\u001b[1;37m                                        ^\u001b[0m\n\u001b[1;31mSyntaxError\u001b[0m\u001b[1;31m:\u001b[0m invalid syntax\n"
     ]
    }
   ],
   "source": [
    "mystr = \"My favourite TV Series is \"Game of Thrones\"\""
   ]
  },
  {
   "cell_type": "markdown",
   "id": "d18de9ee-16fb-4c2b-982f-abb541c67a1a",
   "metadata": {},
   "source": [
    "#### You can use escape character to allow illegal characters"
   ]
  },
  {
   "cell_type": "code",
   "execution_count": 18,
   "id": "f9482f7b-5aa7-4fe2-b2eb-927f528a9079",
   "metadata": {},
   "outputs": [
    {
     "name": "stdout",
     "output_type": "stream",
     "text": [
      "My name is \"Mandeep\"\n"
     ]
    }
   ],
   "source": [
    "abc = \"My name is \\\"Mandeep\\\"\"\n",
    "print(abc)"
   ]
  }
 ],
 "metadata": {
  "kernelspec": {
   "display_name": "Python 3 (ipykernel)",
   "language": "python",
   "name": "python3"
  },
  "language_info": {
   "codemirror_mode": {
    "name": "ipython",
    "version": 3
   },
   "file_extension": ".py",
   "mimetype": "text/x-python",
   "name": "python",
   "nbconvert_exporter": "python",
   "pygments_lexer": "ipython3",
   "version": "3.12.4"
  }
 },
 "nbformat": 4,
 "nbformat_minor": 5
}
